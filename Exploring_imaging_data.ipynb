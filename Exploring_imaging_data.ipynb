{
 "cells": [
  {
   "cell_type": "markdown",
   "metadata": {},
   "source": [
    "# Notebook to organize my ABCD data analysis"
   ]
  },
  {
   "cell_type": "markdown",
   "metadata": {},
   "source": [
    "## Variables of interest\n",
    "### General \n",
    "* pds_ht2_y = Would you say that your growth in height?\n",
    "* pds_skin2_y = Have you noticed any skin changes, especially pimples?\n",
    "* pds_bdyhair_y = And how about the growth of your body hair? (\"Body hair\" means hair any place other than your head, such as under your arms) Would you say that your body hair growth:\n",
    "### Female specific\n",
    "* pds_f4_2_y = Have you noticed that your breasts have begun to grow?\n",
    "* pds_f5_y = Have you begun to menstruate (started to have your period)?\n",
    "### Male specific\n",
    "* pds_m4_y = Have you noticed a deepening of your voice?\n",
    "* pds_m5_y = Have you begun to grow hair on your face?"
   ]
  },
  {
   "cell_type": "markdown",
   "metadata": {},
   "source": [
    "### Scoring Algorithms: \n",
    "\n",
    "For Items 1 through 4 on the girls’ version and all items on the boys’ version, response options were: not yet started (1 point); barely started (2 points); definitely started (3 points); seems complete (4 points); I don’t know (missing). Yes on the menstruation item = 4 points; no = 1 point. Point values are averaged for all items to give a Pubertal Development Scale (PDS) score. \n",
    "\n",
    "Puberty Category Scores are computed using the criteria of Crockett (1988, unpublished) by totaling the scale values given above. \n",
    "\n",
    "### To compute Puberty Category Scores for boys use body hair growth, voice change, and facial hair growth as follows:\n",
    "* Prepubertal = 3\n",
    "* Early Pubertal = 4 or 5 (no 3-point responses)\n",
    "* Midpubertal = 6, 7, or 8 (no 4-points)\n",
    "* Late pubertal = 9-11\n",
    "* Postpubertal = 12\n",
    "\n",
    "\n",
    "### To compute Puberty Category Scores for girls use body hair growth, breast development, and menarche as follows:\n",
    "* Prepubertal = 2 and no menarche\n",
    "* Early Puberty = 3 and no menarche\n",
    "* Midpubertal = > 3 and no menarche\n",
    "* Late Puberty = <= 7 and menarche\n",
    "* Postpubertal = 8 and menarche."
   ]
  },
  {
   "cell_type": "code",
   "execution_count": 1,
   "metadata": {},
   "outputs": [
    {
     "name": "stderr",
     "output_type": "stream",
     "text": [
      "\n",
      "Attaching package: ‘ggplot2’\n",
      "\n",
      "The following objects are masked from ‘package:psych’:\n",
      "\n",
      "    %+%, alpha\n",
      "\n",
      "\n",
      "Attaching package: ‘plyr’\n",
      "\n",
      "The following objects are masked from ‘package:reshape’:\n",
      "\n",
      "    rename, round_any\n",
      "\n",
      "\n",
      "Attaching package: ‘dplyr’\n",
      "\n",
      "The following objects are masked from ‘package:plyr’:\n",
      "\n",
      "    arrange, count, desc, failwith, id, mutate, rename, summarise,\n",
      "    summarize\n",
      "\n",
      "The following object is masked from ‘package:reshape’:\n",
      "\n",
      "    rename\n",
      "\n",
      "The following objects are masked from ‘package:stats’:\n",
      "\n",
      "    filter, lag\n",
      "\n",
      "The following objects are masked from ‘package:base’:\n",
      "\n",
      "    intersect, setdiff, setequal, union\n",
      "\n",
      "Warning message:\n",
      "“package ‘AGD’ was built under R version 3.4.4”"
     ]
    }
   ],
   "source": [
    "library(psych)\n",
    "library(reshape)\n",
    "library(ggplot2)\n",
    "library(plyr)\n",
    "library(dplyr)\n",
    "#install.packages(\"AGD\")\n",
    "library(AGD)"
   ]
  },
  {
   "cell_type": "code",
   "execution_count": 2,
   "metadata": {},
   "outputs": [],
   "source": [
    "BMI_cal<-function(height, weight){\n",
    "  weight_kg<-(weight/2.20462)\n",
    "  height_m<-(height*2.54)/100\n",
    "  BMI=weight_kg/(height_m)^2\n",
    "  return(BMI)\n",
    "}"
   ]
  },
  {
   "cell_type": "code",
   "execution_count": 3,
   "metadata": {},
   "outputs": [],
   "source": [
    "BMItiler<-function(data){\n",
    "    datM<-subset(data, data$gender == \"M\")\n",
    "    datM$interview_age<-(datM$interview_age)/12\n",
    "    datM$zTest <- y2z(y=datM$BMI, x=datM$interview_age, sex=\"M\", ref=cdc.bmi)\n",
    "    datM$BMItile<-100*pnorm(datM$zTest)\n",
    "    \n",
    "    datF<-subset(data, data$gender == \"F\")\n",
    "    datF$interview_age<-(datF$interview_age)/12\n",
    "    datF$zTest <- y2z(y=datF$BMI, x=datF$interview_age, sex=\"F\", ref=cdc.bmi)\n",
    "    datF$BMItile<-100*pnorm(datF$zTest)\n",
    "    \n",
    "    data<-rbind.fill(datF, datM)\n",
    "    return(data)\n",
    "}"
   ]
  },
  {
   "cell_type": "code",
   "execution_count": 4,
   "metadata": {},
   "outputs": [],
   "source": [
    "OVOB_kid<-function(BMItile, data){\n",
    "  data$ov_ob[BMItile<=5]<-\"Underweight\"\n",
    "  data$ov_ob[BMItile>5 & BMItile<=85]<-\"Normalweight\"\n",
    "  data$ov_ob[BMItile>85 & BMItile<=95]<-\"Overweight\"\n",
    "  data$ov_ob[BMItile>95]<-\"Obese\"\n",
    "  return(data$ov_ob)\n",
    "}"
   ]
  },
  {
   "cell_type": "code",
   "execution_count": 5,
   "metadata": {},
   "outputs": [],
   "source": [
    "PCS<-function(x){\n",
    "    earlyM <-subset(x, x$gender == \"M\")\n",
    "    earlyM$sum <- earlyM$pds_m4_y  + earlyM$pds_m5_y + earlyM$pds_bdyhair_y\n",
    "\n",
    "    earlyM$PCS[earlyM$sum <= 3]<-\"prepubertal\"\n",
    "    earlyM$PCS[earlyM$sum > 3 & earlyM$sum <=5]<-\"earlypubertal\"\n",
    "    earlyM$PCS[earlyM$sum > 5 & earlyM$sum <=8]<-\"midpubertal\"\n",
    "    earlyM$PCS[earlyM$sum > 8 & earlyM$sum <=11]<-\"latepubertal\"\n",
    "    earlyM$PCS[ earlyM$sum > 11]<-\"latepubertal\"\n",
    "#    earlyM$PCS[earlyM$sum > 11]<-\"latepubertal\"\n",
    "\n",
    "    early <-subset(x, x$pds_f5_y <= 1)\n",
    "\n",
    "    early$sum <- early$pds_f4_2_y + early$pds_f5_y + early$pds_bdyhair_y\n",
    "    early$PCS[early$sum == 2] <- \"prepubertal\"\n",
    "    early$PCS[early$sum == 3] <- \"earlypubertal\"\n",
    "    early$PCS[early$sum > 3] <- \"midpubertal\"\n",
    "\n",
    "    late <-subset(x, x$pds_f5_y > 1)\n",
    "\n",
    "    late$sum <- late$pds_f4_2_y + late$pds_f5_y + late$pds_bdyhair_y\n",
    "    late$PCS[late$sum >= 7] <- \"latepubertal\"\n",
    "#    late$PCS[late$sum > 7] <- \"postpubertal\"\n",
    "\n",
    "    data<-rbind.fill(earlyM, early, late)\n",
    "    return(data)\n",
    "}"
   ]
  },
  {
   "cell_type": "code",
   "execution_count": 6,
   "metadata": {},
   "outputs": [],
   "source": [
    "anthro<-read.table(\"~/Google Drive/ABCD/important_txt/abcd_ypdms01.csv\", sep=\",\", header=T)\n",
    "puberty<-read.table(\"~/Google Drive/ABCD/important_txt/abcd_ant01.csv\", sep=\",\", header=T)"
   ]
  },
  {
   "cell_type": "code",
   "execution_count": 7,
   "metadata": {},
   "outputs": [
    {
     "name": "stderr",
     "output_type": "stream",
     "text": [
      "Joining by: src_subject_id, interview_date, interview_age, gender, eventname\n"
     ]
    },
    {
     "data": {
      "text/html": [
       "<ol class=list-inline>\n",
       "\t<li>4524</li>\n",
       "\t<li>34</li>\n",
       "</ol>\n"
      ],
      "text/latex": [
       "\\begin{enumerate*}\n",
       "\\item 4524\n",
       "\\item 34\n",
       "\\end{enumerate*}\n"
      ],
      "text/markdown": [
       "1. 4524\n",
       "2. 34\n",
       "\n",
       "\n"
      ],
      "text/plain": [
       "[1] 4524   34"
      ]
     },
     "metadata": {},
     "output_type": "display_data"
    },
    {
     "data": {
      "text/html": [
       "<ol class=list-inline>\n",
       "\t<li>4524</li>\n",
       "\t<li>34</li>\n",
       "</ol>\n"
      ],
      "text/latex": [
       "\\begin{enumerate*}\n",
       "\\item 4524\n",
       "\\item 34\n",
       "\\end{enumerate*}\n"
      ],
      "text/markdown": [
       "1. 4524\n",
       "2. 34\n",
       "\n",
       "\n"
      ],
      "text/plain": [
       "[1] 4524   34"
      ]
     },
     "metadata": {},
     "output_type": "display_data"
    }
   ],
   "source": [
    "x<-join(anthro, puberty)\n",
    "dim(x)\n",
    "x[x == 999] <- NA\n",
    "dim(x)"
   ]
  },
  {
   "cell_type": "code",
   "execution_count": 8,
   "metadata": {},
   "outputs": [],
   "source": [
    "x$BMI<-mapply(BMI_cal, height=x$anthroheightcalc, weight=x$anthroweightcalc)"
   ]
  },
  {
   "cell_type": "code",
   "execution_count": 9,
   "metadata": {},
   "outputs": [],
   "source": [
    "y<-BMItiler(data = x)"
   ]
  },
  {
   "cell_type": "code",
   "execution_count": 10,
   "metadata": {},
   "outputs": [],
   "source": [
    "data<-PCS(y)"
   ]
  },
  {
   "cell_type": "code",
   "execution_count": 11,
   "metadata": {},
   "outputs": [],
   "source": [
    "data$OVOB<-OVOB_kid(BMItile = data$BMItile, data = data)"
   ]
  },
  {
   "cell_type": "code",
   "execution_count": 12,
   "metadata": {},
   "outputs": [],
   "source": [
    "dataMissing<-data[is.na(data$PCS),]"
   ]
  },
  {
   "cell_type": "code",
   "execution_count": 13,
   "metadata": {},
   "outputs": [
    {
     "data": {
      "text/html": [
       "<ol class=list-inline>\n",
       "\t<li>387</li>\n",
       "\t<li>40</li>\n",
       "</ol>\n"
      ],
      "text/latex": [
       "\\begin{enumerate*}\n",
       "\\item 387\n",
       "\\item 40\n",
       "\\end{enumerate*}\n"
      ],
      "text/markdown": [
       "1. 387\n",
       "2. 40\n",
       "\n",
       "\n"
      ],
      "text/plain": [
       "[1] 387  40"
      ]
     },
     "metadata": {},
     "output_type": "display_data"
    }
   ],
   "source": [
    "dim(dataMissing)"
   ]
  },
  {
   "cell_type": "code",
   "execution_count": 14,
   "metadata": {},
   "outputs": [
    {
     "data": {
      "text/plain": [
       "             src_subject_id interview_date interview_age    gender \n",
       " sub-NDARINVANUGPBR4:  2    3/25/17:  6    Min.   : 8.917   F:378  \n",
       " sub-NDARINVHBZ05H20:  2    6/19/17:  6    1st Qu.: 9.250   M:  9  \n",
       " sub-NDARINV03XVEBPM:  1    5/13/17:  5    Median : 9.750          \n",
       " sub-NDARINV042UJKFB:  1    6/24/17:  5    Mean   : 9.812          \n",
       " sub-NDARINV0C471G23:  1    6/26/17:  5    3rd Qu.:10.333          \n",
       " sub-NDARINV0GND16RW:  1    6/28/17:  5    Max.   :11.000          \n",
       " (Other)            :379    (Other):355                            \n",
       "                 eventname     pds_sex_y   pds_ht2_y      pds_skin2_y   \n",
       " baseline_year_1_arm_1:387   Min.   :2   Min.   :1.000   Min.   :1.000  \n",
       "                             1st Qu.:2   1st Qu.:2.000   1st Qu.:1.000  \n",
       "                             Median :2   Median :2.000   Median :1.000  \n",
       "                             Mean   :2   Mean   :2.301   Mean   :1.509  \n",
       "                             3rd Qu.:2   3rd Qu.:3.000   3rd Qu.:2.000  \n",
       "                             Max.   :2   Max.   :4.000   Max.   :4.000  \n",
       "                             NA's   :5   NA's   :264     NA's   :118    \n",
       " pds_bdyhair_y     pds_f4_2_y      pds_f5_y        pds_f6_y       pds_f6_y_dk \n",
       " Min.   :1.000   Min.   :2.00   Min.   :1.000   Min.   : 8.000   Min.   : NA  \n",
       " 1st Qu.:1.000   1st Qu.:2.25   1st Qu.:1.000   1st Qu.: 9.750   1st Qu.: NA  \n",
       " Median :1.000   Median :2.50   Median :1.000   Median :10.000   Median : NA  \n",
       " Mean   :1.826   Mean   :2.50   Mean   :1.063   Mean   : 9.625   Mean   :NaN  \n",
       " 3rd Qu.:2.000   3rd Qu.:2.75   3rd Qu.:1.000   3rd Qu.:10.000   3rd Qu.: NA  \n",
       " Max.   :4.000   Max.   :3.00   Max.   :4.000   Max.   :10.000   Max.   : NA  \n",
       " NA's   :7       NA's   :385    NA's   :4       NA's   :379      NA's   :387  \n",
       "    pds_m4_y      pds_m5_y   menstrual_cycle_script menstrualcycle1_y\n",
       " Min.   :1.0   Min.   :1     Mode:logical                   :379     \n",
       " 1st Qu.:1.0   1st Qu.:1     NA's:387               1/2/17  :  1     \n",
       " Median :1.5   Median :1                            12/27/16:  1     \n",
       " Mean   :1.5   Mean   :1                            6/1/17  :  1     \n",
       " 3rd Qu.:2.0   3rd Qu.:1                            6/19/17 :  1     \n",
       " Max.   :2.0   Max.   :1                            6/6/17  :  1     \n",
       " NA's   :383   NA's   :383                          (Other) :  3     \n",
       " menstrualcycle2_y menstrualcycle2_y_dk menstrualcycle3_y menstrualcycle4_y\n",
       " Min.   : 0.00     Min.   : NA          Min.   :0.000     Min.   :0.0      \n",
       " 1st Qu.: 4.25     1st Qu.: NA          1st Qu.:1.000     1st Qu.:0.0      \n",
       " Median :14.00     Median : NA          Median :1.000     Median :0.0      \n",
       " Mean   :15.33     Mean   :NaN          Mean   :1.125     Mean   :0.5      \n",
       " 3rd Qu.:28.25     3rd Qu.: NA          3rd Qu.:1.250     3rd Qu.:0.5      \n",
       " Max.   :30.00     Max.   : NA          Max.   :2.000     Max.   :2.0      \n",
       " NA's   :381       NA's   :387          NA's   :379       NA's   :379      \n",
       " menstrualcycle5_y menstrualcycle6_y anthro_1_height_in anthro2heightin\n",
       " Min.   :1.00      Min.   :1.00      Min.   :44.50      Min.   :44.50  \n",
       " 1st Qu.:1.00      1st Qu.:1.00      1st Qu.:52.55      1st Qu.:52.56  \n",
       " Median :1.00      Median :1.00      Median :54.50      Median :54.50  \n",
       " Mean   :1.25      Mean   :1.25      Mean   :54.66      Mean   :54.67  \n",
       " 3rd Qu.:1.00      3rd Qu.:1.00      3rd Qu.:56.77      3rd Qu.:56.88  \n",
       " Max.   :3.00      Max.   :3.00      Max.   :64.25      Max.   :64.25  \n",
       " NA's   :379       NA's   :379                                         \n",
       " anthro3heightin anthroheightcalc anthroweightcast     anthro_weight_a_location\n",
       " Min.   :48.50   Min.   :44.50    Min.   :0                        :387        \n",
       " 1st Qu.:51.94   1st Qu.:52.58    1st Qu.:0        Arm             :  0        \n",
       " Median :54.38   Median :54.50    Median :0        Boot on left leg:  0        \n",
       " Mean   :54.43   Mean   :54.67    Mean   :0        Knee brace      :  0        \n",
       " 3rd Qu.:57.10   3rd Qu.:56.83    3rd Qu.:0        Left arm        :  0        \n",
       " Max.   :62.00   Max.   :64.25    Max.   :0        Left foot       :  0        \n",
       " NA's   :375                      NA's   :23       (Other)         :  0        \n",
       " anthroweight1lb  anthroweight2lb  anthroweight3lb  anthroweightcalc\n",
       " Min.   : 47.50   Min.   : 47.50   Min.   : 55.00   Min.   : 47.50  \n",
       " 1st Qu.: 64.10   1st Qu.: 64.00   1st Qu.: 68.50   1st Qu.: 64.03  \n",
       " Median : 76.00   Median : 76.00   Median : 79.80   Median : 76.00  \n",
       " Mean   : 81.51   Mean   : 81.52   Mean   : 83.36   Mean   : 81.49  \n",
       " 3rd Qu.: 92.88   3rd Qu.: 93.00   3rd Qu.: 95.00   3rd Qu.: 92.40  \n",
       " Max.   :174.00   Max.   :174.00   Max.   :130.00   Max.   :174.00  \n",
       " NA's   :1        NA's   :1        NA's   :350      NA's   :1       \n",
       " anthro_waist_cm      BMI            zTest            BMItile        \n",
       " Min.   :19.50   Min.   :11.88   Min.   :-3.6730   Min.   : 0.01199  \n",
       " 1st Qu.:23.50   1st Qu.:16.00   1st Qu.:-0.3540   1st Qu.:36.16726  \n",
       " Median :26.00   Median :18.07   Median : 0.5155   Median :69.68963  \n",
       " Mean   :26.61   Mean   :18.94   Mean   : 0.4541   Mean   :62.41837  \n",
       " 3rd Qu.:29.00   3rd Qu.:21.29   3rd Qu.: 1.3330   3rd Qu.:90.87328  \n",
       " Max.   :41.00   Max.   :35.12   Max.   : 2.7340   Max.   :99.68715  \n",
       "                 NA's   :1       NA's   :1         NA's   :1         \n",
       "      sum          PCS                OVOB          \n",
       " Min.   : NA   Length:387         Length:387        \n",
       " 1st Qu.: NA   Class :character   Class :character  \n",
       " Median : NA   Mode  :character   Mode  :character  \n",
       " Mean   :NaN                                        \n",
       " 3rd Qu.: NA                                        \n",
       " Max.   : NA                                        \n",
       " NA's   :387                                        "
      ]
     },
     "metadata": {},
     "output_type": "display_data"
    }
   ],
   "source": [
    "summary(dataMissing)"
   ]
  },
  {
   "cell_type": "code",
   "execution_count": 15,
   "metadata": {},
   "outputs": [
    {
     "data": {
      "text/plain": [
       "                           gender   F   M\n",
       "PCS           OVOB                       \n",
       "earlypubertal Normalweight        348 729\n",
       "              Obese                33 184\n",
       "              Overweight           32 158\n",
       "              Underweight          40  44\n",
       "latepubertal  Normalweight         24  24\n",
       "              Obese                18  10\n",
       "              Overweight           13   9\n",
       "              Underweight           0   0\n",
       "midpubertal   Normalweight        824 321\n",
       "              Obese               187  92\n",
       "              Overweight          193  83\n",
       "              Underweight          47  12\n",
       "prepubertal   Normalweight          0 485\n",
       "              Obese                 0 105\n",
       "              Overweight            0  84\n",
       "              Underweight           0  25"
      ]
     },
     "metadata": {},
     "output_type": "display_data"
    },
    {
     "data": {
      "text/plain": [
       "Call: xtabs(formula = ~PCS + OVOB + gender, data = data)\n",
       "Number of cases in table: 4124 \n",
       "Number of factors: 3 \n",
       "Test for independence of all factors:\n",
       "\tChisq = 1325.1, df = 24, p-value = 4.912e-265\n",
       "\tChi-squared approximation may be incorrect"
      ]
     },
     "metadata": {},
     "output_type": "display_data"
    }
   ],
   "source": [
    "mytable <- xtabs(~PCS+OVOB+gender, data=data)\n",
    "ftable(mytable) # print table \n",
    "summary(mytable) # chi-square test of indepedence"
   ]
  },
  {
   "cell_type": "code",
   "execution_count": 16,
   "metadata": {},
   "outputs": [
    {
     "data": {
      "text/html": [
       "18"
      ],
      "text/latex": [
       "18"
      ],
      "text/markdown": [
       "18"
      ],
      "text/plain": [
       "[1] 18"
      ]
     },
     "metadata": {},
     "output_type": "display_data"
    }
   ],
   "source": [
    "3*3*2"
   ]
  },
  {
   "cell_type": "code",
   "execution_count": 17,
   "metadata": {},
   "outputs": [],
   "source": [
    "DF<-subset(data, data$PCS != \"prepubertal\")\n",
    "DF<-subset(DF, DF$OVOB !=\"Underweight\")"
   ]
  },
  {
   "cell_type": "code",
   "execution_count": 18,
   "metadata": {},
   "outputs": [
    {
     "data": {
      "text/plain": [
       "                           gender   F   M\n",
       "PCS           OVOB                       \n",
       "earlypubertal Normalweight        348 729\n",
       "              Obese                33 184\n",
       "              Overweight           32 158\n",
       "latepubertal  Normalweight         24  24\n",
       "              Obese                18  10\n",
       "              Overweight           13   9\n",
       "midpubertal   Normalweight        824 321\n",
       "              Obese               187  92\n",
       "              Overweight          193  83"
      ]
     },
     "metadata": {},
     "output_type": "display_data"
    },
    {
     "data": {
      "text/plain": [
       "Call: xtabs(formula = ~PCS + OVOB + gender, data = DF)\n",
       "Number of cases in table: 3282 \n",
       "Number of factors: 3 \n",
       "Test for independence of all factors:\n",
       "\tChisq = 640.3, df = 12, p-value = 2.577e-129"
      ]
     },
     "metadata": {},
     "output_type": "display_data"
    }
   ],
   "source": [
    "mytable <- xtabs(~PCS+OVOB+gender, data=DF)\n",
    "ftable(mytable) # print table \n",
    "summary(mytable)"
   ]
  },
  {
   "cell_type": "markdown",
   "metadata": {},
   "source": [
    "Limiting factor is the late pubertal with a cell of 9. "
   ]
  },
  {
   "cell_type": "code",
   "execution_count": 19,
   "metadata": {},
   "outputs": [],
   "source": [
    "avail_scans <- read.table(\"~/Google Drive/ABCD/important_txt/scan_list.txt\")"
   ]
  },
  {
   "cell_type": "code",
   "execution_count": 20,
   "metadata": {},
   "outputs": [],
   "source": [
    "avail_scans$have_data <- rep(1,nrow(avail_scans))"
   ]
  },
  {
   "cell_type": "code",
   "execution_count": 21,
   "metadata": {},
   "outputs": [],
   "source": [
    "names(avail_scans)<-c(\"src_subject_id\", \"have_data\")"
   ]
  },
  {
   "cell_type": "code",
   "execution_count": 22,
   "metadata": {},
   "outputs": [
    {
     "data": {
      "text/html": [
       "<ol class=list-inline>\n",
       "\t<li>1568</li>\n",
       "\t<li>2</li>\n",
       "</ol>\n"
      ],
      "text/latex": [
       "\\begin{enumerate*}\n",
       "\\item 1568\n",
       "\\item 2\n",
       "\\end{enumerate*}\n"
      ],
      "text/markdown": [
       "1. 1568\n",
       "2. 2\n",
       "\n",
       "\n"
      ],
      "text/plain": [
       "[1] 1568    2"
      ]
     },
     "metadata": {},
     "output_type": "display_data"
    }
   ],
   "source": [
    "dim(avail_scans)"
   ]
  },
  {
   "cell_type": "code",
   "execution_count": 23,
   "metadata": {},
   "outputs": [
    {
     "name": "stderr",
     "output_type": "stream",
     "text": [
      "Joining by: src_subject_id\n"
     ]
    }
   ],
   "source": [
    "data0<-join(DF, avail_scans)"
   ]
  },
  {
   "cell_type": "code",
   "execution_count": 24,
   "metadata": {},
   "outputs": [
    {
     "data": {
      "text/html": [
       "<ol class=list-inline>\n",
       "\t<li>3282</li>\n",
       "\t<li>41</li>\n",
       "</ol>\n"
      ],
      "text/latex": [
       "\\begin{enumerate*}\n",
       "\\item 3282\n",
       "\\item 41\n",
       "\\end{enumerate*}\n"
      ],
      "text/markdown": [
       "1. 3282\n",
       "2. 41\n",
       "\n",
       "\n"
      ],
      "text/plain": [
       "[1] 3282   41"
      ]
     },
     "metadata": {},
     "output_type": "display_data"
    }
   ],
   "source": [
    "dim(data0)"
   ]
  },
  {
   "cell_type": "code",
   "execution_count": 25,
   "metadata": {},
   "outputs": [],
   "source": [
    "data<-data0[!is.na(data0$have_data),]"
   ]
  },
  {
   "cell_type": "code",
   "execution_count": 26,
   "metadata": {},
   "outputs": [
    {
     "data": {
      "text/html": [
       "<ol class=list-inline>\n",
       "\t<li>1149</li>\n",
       "\t<li>41</li>\n",
       "</ol>\n"
      ],
      "text/latex": [
       "\\begin{enumerate*}\n",
       "\\item 1149\n",
       "\\item 41\n",
       "\\end{enumerate*}\n"
      ],
      "text/markdown": [
       "1. 1149\n",
       "2. 41\n",
       "\n",
       "\n"
      ],
      "text/plain": [
       "[1] 1149   41"
      ]
     },
     "metadata": {},
     "output_type": "display_data"
    }
   ],
   "source": [
    "dim(data)"
   ]
  },
  {
   "cell_type": "code",
   "execution_count": 27,
   "metadata": {},
   "outputs": [
    {
     "data": {
      "text/plain": [
       "                     OVOB Normalweight Obese Overweight\n",
       "gender PCS                                             \n",
       "F      earlypubertal               130     8          2\n",
       "       latepubertal                 20    11         11\n",
       "       midpubertal                 271    68         60\n",
       "M      earlypubertal               240    56         55\n",
       "       latepubertal                 17     8          8\n",
       "       midpubertal                 122    34         28"
      ]
     },
     "metadata": {},
     "output_type": "display_data"
    },
    {
     "data": {
      "text/plain": [
       "Call: xtabs(formula = ~gender + PCS + OVOB, data = data)\n",
       "Number of cases in table: 1149 \n",
       "Number of factors: 3 \n",
       "Test for independence of all factors:\n",
       "\tChisq = 209.12, df = 12, p-value = 4.248e-38"
      ]
     },
     "metadata": {},
     "output_type": "display_data"
    }
   ],
   "source": [
    "mytable <- xtabs(~gender+PCS+OVOB, data=data)\n",
    "ftable(mytable) # print table \n",
    "summary(mytable) # chi-square test of indepedence"
   ]
  },
  {
   "cell_type": "markdown",
   "metadata": {},
   "source": [
    "## Get a list of subjects needed for analysis"
   ]
  },
  {
   "cell_type": "code",
   "execution_count": 28,
   "metadata": {},
   "outputs": [],
   "source": [
    "randomly<-function(y){\n",
    "    nines<-y[sample(nrow(y), 8), ]\n",
    "    return(nines)\n",
    "}"
   ]
  },
  {
   "cell_type": "code",
   "execution_count": 29,
   "metadata": {
    "scrolled": true
   },
   "outputs": [],
   "source": [
    "#randomly(data)"
   ]
  },
  {
   "cell_type": "code",
   "execution_count": 30,
   "metadata": {},
   "outputs": [],
   "source": [
    "get_subs<-function(x){\n",
    "    big_list<-list(\n",
    "        ob_late_F<-subset(x, x$OVOB == \"Obese\" & x$PCS == \"latepubertal\" & x$gender == \"F\"),\n",
    "        ob_mid_F<-subset(x, x$OVOB == \"Obese\" & x$PCS == \"midpubertal\" & x$gender == \"F\"),\n",
    "         ob_early_F<-subset(x, x$OVOB == \"Obese\" & x$PCS == \"earlypubertal\" & x$gender == \"F\"),\n",
    "    \n",
    "        ov_late_F<-subset(x, x$OVOB == \"Overweight\" & x$PCS == \"latepubertal\" & x$gender == \"F\"),\n",
    "        ov_mid_F<-subset(x, x$OVOB == \"Overweight\" & x$PCS == \"midpubertal\" & x$gender == \"F\"),\n",
    "#         ov_early_F<-subset(x, x$OVOB == \"Overweight\" & x$PCS == \"earlypubertal\" & x$gender == \"F\"),\n",
    "    \n",
    "        no_late_F<-subset(x, x$OVOB == \"Normalweight\" & x$PCS == \"latepubertal\" & x$gender == \"F\"),\n",
    "        no_mid_F<-subset(x, x$OVOB == \"Normalweight\" & x$PCS == \"midpubertal\" & x$gender == \"F\"),\n",
    "        no_early_F<-subset(x, x$OVOB == \"Normalweight\" & x$PCS == \"earlypubertal\" & x$gender == \"F\"),\n",
    "    ################################################################################################\n",
    "        ob_late_M<-subset(x, x$OVOB == \"Obese\" & x$PCS == \"latepubertal\" & x$gender == \"M\"),\n",
    "        \n",
    "        ob_mid_M<-subset(x, x$OVOB == \"Obese\" & x$PCS == \"midpubertal\" & x$gender == \"M\"),\n",
    "        ob_early_M<-subset(x, x$OVOB == \"Obese\" & x$PCS == \"earlypubertal\" & x$gender == \"M\"),\n",
    "\n",
    "        ov_late_M<-subset(x, x$OVOB == \"Overweight\" & x$PCS == \"latepubertal\" & x$gender == \"M\"),\n",
    "        \n",
    "        ov_mid_M<-subset(x, x$OVOB == \"Overweight\" & x$PCS == \"midpubertal\" & x$gender == \"M\"),\n",
    "        ov_early_M<-subset(x, x$OVOB == \"Overweight\" & x$PCS == \"earlypubertal\" & x$gender == \"M\"),\n",
    "\n",
    "        no_late_M<-subset(x, x$OVOB == \"Normalweight\" & x$PCS == \"latepubertal\" & x$gender == \"M\"),\n",
    "        \n",
    "        no_mid_M<-subset(x, x$OVOB == \"Normalweight\" & x$PCS == \"midpubertal\" & x$gender == \"M\"),\n",
    "        no_early_M<-subset(x, x$OVOB == \"Normalweight\" & x$PCS == \"earlypubertal\" & x$gender == \"M\")\n",
    "    )\n",
    "#     check_dims<-lapply(big_list, dim)\n",
    "    final_list<-lapply(big_list, randomly)\n",
    "    return(final_list)\n",
    "}"
   ]
  },
  {
   "cell_type": "code",
   "execution_count": 31,
   "metadata": {
    "scrolled": true
   },
   "outputs": [],
   "source": [
    "data2<-get_subs(data)"
   ]
  },
  {
   "cell_type": "code",
   "execution_count": 32,
   "metadata": {},
   "outputs": [
    {
     "data": {
      "text/html": [
       "17"
      ],
      "text/latex": [
       "17"
      ],
      "text/markdown": [
       "17"
      ],
      "text/plain": [
       "[1] 17"
      ]
     },
     "metadata": {},
     "output_type": "display_data"
    }
   ],
   "source": [
    "length(data2)"
   ]
  },
  {
   "cell_type": "code",
   "execution_count": 33,
   "metadata": {
    "scrolled": false
   },
   "outputs": [],
   "source": [
    "x<-ldply(data2, rbind)"
   ]
  },
  {
   "cell_type": "code",
   "execution_count": 34,
   "metadata": {
    "scrolled": false
   },
   "outputs": [
    {
     "data": {
      "text/html": [
       "<ol class=list-inline>\n",
       "\t<li>'src_subject_id'</li>\n",
       "\t<li>'interview_date'</li>\n",
       "\t<li>'interview_age'</li>\n",
       "\t<li>'gender'</li>\n",
       "\t<li>'eventname'</li>\n",
       "\t<li>'pds_sex_y'</li>\n",
       "\t<li>'pds_ht2_y'</li>\n",
       "\t<li>'pds_skin2_y'</li>\n",
       "\t<li>'pds_bdyhair_y'</li>\n",
       "\t<li>'pds_f4_2_y'</li>\n",
       "\t<li>'pds_f5_y'</li>\n",
       "\t<li>'pds_f6_y'</li>\n",
       "\t<li>'pds_f6_y_dk'</li>\n",
       "\t<li>'pds_m4_y'</li>\n",
       "\t<li>'pds_m5_y'</li>\n",
       "\t<li>'menstrual_cycle_script'</li>\n",
       "\t<li>'menstrualcycle1_y'</li>\n",
       "\t<li>'menstrualcycle2_y'</li>\n",
       "\t<li>'menstrualcycle2_y_dk'</li>\n",
       "\t<li>'menstrualcycle3_y'</li>\n",
       "\t<li>'menstrualcycle4_y'</li>\n",
       "\t<li>'menstrualcycle5_y'</li>\n",
       "\t<li>'menstrualcycle6_y'</li>\n",
       "\t<li>'anthro_1_height_in'</li>\n",
       "\t<li>'anthro2heightin'</li>\n",
       "\t<li>'anthro3heightin'</li>\n",
       "\t<li>'anthroheightcalc'</li>\n",
       "\t<li>'anthroweightcast'</li>\n",
       "\t<li>'anthro_weight_a_location'</li>\n",
       "\t<li>'anthroweight1lb'</li>\n",
       "\t<li>'anthroweight2lb'</li>\n",
       "\t<li>'anthroweight3lb'</li>\n",
       "\t<li>'anthroweightcalc'</li>\n",
       "\t<li>'anthro_waist_cm'</li>\n",
       "\t<li>'BMI'</li>\n",
       "\t<li>'zTest'</li>\n",
       "\t<li>'BMItile'</li>\n",
       "\t<li>'sum'</li>\n",
       "\t<li>'PCS'</li>\n",
       "\t<li>'OVOB'</li>\n",
       "\t<li>'have_data'</li>\n",
       "</ol>\n"
      ],
      "text/latex": [
       "\\begin{enumerate*}\n",
       "\\item 'src\\_subject\\_id'\n",
       "\\item 'interview\\_date'\n",
       "\\item 'interview\\_age'\n",
       "\\item 'gender'\n",
       "\\item 'eventname'\n",
       "\\item 'pds\\_sex\\_y'\n",
       "\\item 'pds\\_ht2\\_y'\n",
       "\\item 'pds\\_skin2\\_y'\n",
       "\\item 'pds\\_bdyhair\\_y'\n",
       "\\item 'pds\\_f4\\_2\\_y'\n",
       "\\item 'pds\\_f5\\_y'\n",
       "\\item 'pds\\_f6\\_y'\n",
       "\\item 'pds\\_f6\\_y\\_dk'\n",
       "\\item 'pds\\_m4\\_y'\n",
       "\\item 'pds\\_m5\\_y'\n",
       "\\item 'menstrual\\_cycle\\_script'\n",
       "\\item 'menstrualcycle1\\_y'\n",
       "\\item 'menstrualcycle2\\_y'\n",
       "\\item 'menstrualcycle2\\_y\\_dk'\n",
       "\\item 'menstrualcycle3\\_y'\n",
       "\\item 'menstrualcycle4\\_y'\n",
       "\\item 'menstrualcycle5\\_y'\n",
       "\\item 'menstrualcycle6\\_y'\n",
       "\\item 'anthro\\_1\\_height\\_in'\n",
       "\\item 'anthro2heightin'\n",
       "\\item 'anthro3heightin'\n",
       "\\item 'anthroheightcalc'\n",
       "\\item 'anthroweightcast'\n",
       "\\item 'anthro\\_weight\\_a\\_location'\n",
       "\\item 'anthroweight1lb'\n",
       "\\item 'anthroweight2lb'\n",
       "\\item 'anthroweight3lb'\n",
       "\\item 'anthroweightcalc'\n",
       "\\item 'anthro\\_waist\\_cm'\n",
       "\\item 'BMI'\n",
       "\\item 'zTest'\n",
       "\\item 'BMItile'\n",
       "\\item 'sum'\n",
       "\\item 'PCS'\n",
       "\\item 'OVOB'\n",
       "\\item 'have\\_data'\n",
       "\\end{enumerate*}\n"
      ],
      "text/markdown": [
       "1. 'src_subject_id'\n",
       "2. 'interview_date'\n",
       "3. 'interview_age'\n",
       "4. 'gender'\n",
       "5. 'eventname'\n",
       "6. 'pds_sex_y'\n",
       "7. 'pds_ht2_y'\n",
       "8. 'pds_skin2_y'\n",
       "9. 'pds_bdyhair_y'\n",
       "10. 'pds_f4_2_y'\n",
       "11. 'pds_f5_y'\n",
       "12. 'pds_f6_y'\n",
       "13. 'pds_f6_y_dk'\n",
       "14. 'pds_m4_y'\n",
       "15. 'pds_m5_y'\n",
       "16. 'menstrual_cycle_script'\n",
       "17. 'menstrualcycle1_y'\n",
       "18. 'menstrualcycle2_y'\n",
       "19. 'menstrualcycle2_y_dk'\n",
       "20. 'menstrualcycle3_y'\n",
       "21. 'menstrualcycle4_y'\n",
       "22. 'menstrualcycle5_y'\n",
       "23. 'menstrualcycle6_y'\n",
       "24. 'anthro_1_height_in'\n",
       "25. 'anthro2heightin'\n",
       "26. 'anthro3heightin'\n",
       "27. 'anthroheightcalc'\n",
       "28. 'anthroweightcast'\n",
       "29. 'anthro_weight_a_location'\n",
       "30. 'anthroweight1lb'\n",
       "31. 'anthroweight2lb'\n",
       "32. 'anthroweight3lb'\n",
       "33. 'anthroweightcalc'\n",
       "34. 'anthro_waist_cm'\n",
       "35. 'BMI'\n",
       "36. 'zTest'\n",
       "37. 'BMItile'\n",
       "38. 'sum'\n",
       "39. 'PCS'\n",
       "40. 'OVOB'\n",
       "41. 'have_data'\n",
       "\n",
       "\n"
      ],
      "text/plain": [
       " [1] \"src_subject_id\"           \"interview_date\"          \n",
       " [3] \"interview_age\"            \"gender\"                  \n",
       " [5] \"eventname\"                \"pds_sex_y\"               \n",
       " [7] \"pds_ht2_y\"                \"pds_skin2_y\"             \n",
       " [9] \"pds_bdyhair_y\"            \"pds_f4_2_y\"              \n",
       "[11] \"pds_f5_y\"                 \"pds_f6_y\"                \n",
       "[13] \"pds_f6_y_dk\"              \"pds_m4_y\"                \n",
       "[15] \"pds_m5_y\"                 \"menstrual_cycle_script\"  \n",
       "[17] \"menstrualcycle1_y\"        \"menstrualcycle2_y\"       \n",
       "[19] \"menstrualcycle2_y_dk\"     \"menstrualcycle3_y\"       \n",
       "[21] \"menstrualcycle4_y\"        \"menstrualcycle5_y\"       \n",
       "[23] \"menstrualcycle6_y\"        \"anthro_1_height_in\"      \n",
       "[25] \"anthro2heightin\"          \"anthro3heightin\"         \n",
       "[27] \"anthroheightcalc\"         \"anthroweightcast\"        \n",
       "[29] \"anthro_weight_a_location\" \"anthroweight1lb\"         \n",
       "[31] \"anthroweight2lb\"          \"anthroweight3lb\"         \n",
       "[33] \"anthroweightcalc\"         \"anthro_waist_cm\"         \n",
       "[35] \"BMI\"                      \"zTest\"                   \n",
       "[37] \"BMItile\"                  \"sum\"                     \n",
       "[39] \"PCS\"                      \"OVOB\"                    \n",
       "[41] \"have_data\"               "
      ]
     },
     "metadata": {},
     "output_type": "display_data"
    }
   ],
   "source": [
    "names(x)"
   ]
  },
  {
   "cell_type": "code",
   "execution_count": 35,
   "metadata": {},
   "outputs": [],
   "source": [
    "myvars<-c('src_subject_id','gender','PCS', 'OVOB')\n",
    "y<-x[myvars]"
   ]
  },
  {
   "cell_type": "code",
   "execution_count": 36,
   "metadata": {},
   "outputs": [],
   "source": [
    "write.table(y, \"~/Google Drive//ABCD/important_txt/data4analysis.txt\", sep=\" \", col.names=F, row.names = F)"
   ]
  },
  {
   "cell_type": "markdown",
   "metadata": {},
   "source": [
    "## Check missing data"
   ]
  },
  {
   "cell_type": "code",
   "execution_count": 37,
   "metadata": {},
   "outputs": [],
   "source": [
    "missing<-data0[is.na(data0$have_data),]"
   ]
  },
  {
   "cell_type": "code",
   "execution_count": 38,
   "metadata": {},
   "outputs": [
    {
     "data": {
      "text/html": [
       "<ol class=list-inline>\n",
       "\t<li>2133</li>\n",
       "\t<li>41</li>\n",
       "</ol>\n"
      ],
      "text/latex": [
       "\\begin{enumerate*}\n",
       "\\item 2133\n",
       "\\item 41\n",
       "\\end{enumerate*}\n"
      ],
      "text/markdown": [
       "1. 2133\n",
       "2. 41\n",
       "\n",
       "\n"
      ],
      "text/plain": [
       "[1] 2133   41"
      ]
     },
     "metadata": {},
     "output_type": "display_data"
    }
   ],
   "source": [
    "dim(missing)"
   ]
  },
  {
   "cell_type": "code",
   "execution_count": 39,
   "metadata": {
    "scrolled": true
   },
   "outputs": [
    {
     "data": {
      "text/plain": [
       "                     OVOB Normalweight Obese Overweight\n",
       "gender PCS                                             \n",
       "F      earlypubertal               218    25         30\n",
       "       latepubertal                  4     7          2\n",
       "       midpubertal                 553   119        133\n",
       "M      earlypubertal               489   128        103\n",
       "       latepubertal                  7     2          1\n",
       "       midpubertal                 199    58         55"
      ]
     },
     "metadata": {},
     "output_type": "display_data"
    },
    {
     "data": {
      "text/plain": [
       "Call: xtabs(formula = ~gender + PCS + OVOB, data = missing)\n",
       "Number of cases in table: 2133 \n",
       "Number of factors: 3 \n",
       "Test for independence of all factors:\n",
       "\tChisq = 450.5, df = 12, p-value = 7.232e-89\n",
       "\tChi-squared approximation may be incorrect"
      ]
     },
     "metadata": {},
     "output_type": "display_data"
    }
   ],
   "source": [
    "mytable <- xtabs(~gender+PCS+OVOB, data=missing)\n",
    "ftable(mytable) # print table \n",
    "summary(mytable) # chi-square test of indepedence"
   ]
  },
  {
   "cell_type": "markdown",
   "metadata": {},
   "source": [
    "Looks like the cell sizes are really uneven, will need to increase data in the female scans in particular"
   ]
  },
  {
   "cell_type": "code",
   "execution_count": 40,
   "metadata": {},
   "outputs": [
    {
     "data": {
      "text/html": [
       "<ol class=list-inline>\n",
       "\t<li>339</li>\n",
       "\t<li>41</li>\n",
       "</ol>\n"
      ],
      "text/latex": [
       "\\begin{enumerate*}\n",
       "\\item 339\n",
       "\\item 41\n",
       "\\end{enumerate*}\n"
      ],
      "text/markdown": [
       "1. 339\n",
       "2. 41\n",
       "\n",
       "\n"
      ],
      "text/plain": [
       "[1] 339  41"
      ]
     },
     "metadata": {},
     "output_type": "display_data"
    }
   ],
   "source": [
    "dim(missing[missing$OVOB == \"Obese\",])"
   ]
  },
  {
   "cell_type": "code",
   "execution_count": 41,
   "metadata": {},
   "outputs": [
    {
     "data": {
      "text/html": [
       "<ol class=list-inline>\n",
       "\t<li>30</li>\n",
       "\t<li>41</li>\n",
       "</ol>\n"
      ],
      "text/latex": [
       "\\begin{enumerate*}\n",
       "\\item 30\n",
       "\\item 41\n",
       "\\end{enumerate*}\n"
      ],
      "text/markdown": [
       "1. 30\n",
       "2. 41\n",
       "\n",
       "\n"
      ],
      "text/plain": [
       "[1] 30 41"
      ]
     },
     "metadata": {},
     "output_type": "display_data"
    }
   ],
   "source": [
    "ov_early<-subset(missing, missing$OVOB == \"Overweight\" & missing$PCS == \"earlypubertal\" & missing$gender == \"F\")\n",
    "dim(ov_early)"
   ]
  },
  {
   "cell_type": "code",
   "execution_count": 42,
   "metadata": {},
   "outputs": [
    {
     "data": {
      "text/html": [
       "<ol class=list-inline>\n",
       "\t<li>9</li>\n",
       "\t<li>41</li>\n",
       "</ol>\n"
      ],
      "text/latex": [
       "\\begin{enumerate*}\n",
       "\\item 9\n",
       "\\item 41\n",
       "\\end{enumerate*}\n"
      ],
      "text/markdown": [
       "1. 9\n",
       "2. 41\n",
       "\n",
       "\n"
      ],
      "text/plain": [
       "[1]  9 41"
      ]
     },
     "metadata": {},
     "output_type": "display_data"
    }
   ],
   "source": [
    "ob_late<-subset(missing, missing$OVOB == \"Obese\" & missing$PCS == \"latepubertal\")\n",
    "dim(ob_late)"
   ]
  },
  {
   "cell_type": "code",
   "execution_count": 43,
   "metadata": {},
   "outputs": [
    {
     "data": {
      "text/html": [
       "<ol class=list-inline>\n",
       "\t<li>0</li>\n",
       "\t<li>41</li>\n",
       "</ol>\n"
      ],
      "text/latex": [
       "\\begin{enumerate*}\n",
       "\\item 0\n",
       "\\item 41\n",
       "\\end{enumerate*}\n"
      ],
      "text/markdown": [
       "1. 0\n",
       "2. 41\n",
       "\n",
       "\n"
      ],
      "text/plain": [
       "[1]  0 41"
      ]
     },
     "metadata": {},
     "output_type": "display_data"
    }
   ],
   "source": [
    "ob_post<-subset(missing, missing$OVOB == \"Obese\" & missing$PCS == \"postpubertal\")\n",
    "dim(ob_post)"
   ]
  },
  {
   "cell_type": "code",
   "execution_count": 44,
   "metadata": {},
   "outputs": [
    {
     "data": {
      "text/html": [
       "<ol class=list-inline>\n",
       "\t<li>0</li>\n",
       "\t<li>41</li>\n",
       "</ol>\n"
      ],
      "text/latex": [
       "\\begin{enumerate*}\n",
       "\\item 0\n",
       "\\item 41\n",
       "\\end{enumerate*}\n"
      ],
      "text/markdown": [
       "1. 0\n",
       "2. 41\n",
       "\n",
       "\n"
      ],
      "text/plain": [
       "[1]  0 41"
      ]
     },
     "metadata": {},
     "output_type": "display_data"
    }
   ],
   "source": [
    "ov_post<-subset(missing, missing$OVOB == \"Overweight\" & missing$PCS == \"postpubertal\")\n",
    "dim(ov_post)"
   ]
  },
  {
   "cell_type": "code",
   "execution_count": 45,
   "metadata": {},
   "outputs": [
    {
     "data": {
      "text/html": [
       "<ol class=list-inline>\n",
       "\t<li>3</li>\n",
       "\t<li>41</li>\n",
       "</ol>\n"
      ],
      "text/latex": [
       "\\begin{enumerate*}\n",
       "\\item 3\n",
       "\\item 41\n",
       "\\end{enumerate*}\n"
      ],
      "text/markdown": [
       "1. 3\n",
       "2. 41\n",
       "\n",
       "\n"
      ],
      "text/plain": [
       "[1]  3 41"
      ]
     },
     "metadata": {},
     "output_type": "display_data"
    }
   ],
   "source": [
    "ov_late<-subset(missing, missing$OVOB == \"Overweight\" & missing$PCS == \"latepubertal\")\n",
    "dim(ov_late)"
   ]
  },
  {
   "cell_type": "code",
   "execution_count": 46,
   "metadata": {},
   "outputs": [
    {
     "data": {
      "text/html": [
       "<ol class=list-inline>\n",
       "\t<li>11</li>\n",
       "\t<li>41</li>\n",
       "</ol>\n"
      ],
      "text/latex": [
       "\\begin{enumerate*}\n",
       "\\item 11\n",
       "\\item 41\n",
       "\\end{enumerate*}\n"
      ],
      "text/markdown": [
       "1. 11\n",
       "2. 41\n",
       "\n",
       "\n"
      ],
      "text/plain": [
       "[1] 11 41"
      ]
     },
     "metadata": {},
     "output_type": "display_data"
    }
   ],
   "source": [
    "no_late<-subset(missing, missing$OVOB == \"Normalweight\" & missing$PCS == \"latepubertal\")\n",
    "dim(no_late)"
   ]
  },
  {
   "cell_type": "code",
   "execution_count": 47,
   "metadata": {},
   "outputs": [
    {
     "data": {
      "text/html": [
       "<ol class=list-inline>\n",
       "\t<li>0</li>\n",
       "\t<li>41</li>\n",
       "</ol>\n"
      ],
      "text/latex": [
       "\\begin{enumerate*}\n",
       "\\item 0\n",
       "\\item 41\n",
       "\\end{enumerate*}\n"
      ],
      "text/markdown": [
       "1. 0\n",
       "2. 41\n",
       "\n",
       "\n"
      ],
      "text/plain": [
       "[1]  0 41"
      ]
     },
     "metadata": {},
     "output_type": "display_data"
    }
   ],
   "source": [
    "no_post<-subset(missing, missing$OVOB == \"Normalweight\" & missing$PCS == \"postpubertal\")\n",
    "dim(no_post)"
   ]
  },
  {
   "cell_type": "code",
   "execution_count": 48,
   "metadata": {},
   "outputs": [
    {
     "data": {
      "text/html": [
       "<ol class=list-inline>\n",
       "\t<li>23</li>\n",
       "\t<li>41</li>\n",
       "</ol>\n"
      ],
      "text/latex": [
       "\\begin{enumerate*}\n",
       "\\item 23\n",
       "\\item 41\n",
       "\\end{enumerate*}\n"
      ],
      "text/markdown": [
       "1. 23\n",
       "2. 41\n",
       "\n",
       "\n"
      ],
      "text/plain": [
       "[1] 23 41"
      ]
     },
     "metadata": {},
     "output_type": "display_data"
    }
   ],
   "source": [
    "gather<-rbind.fill(ob_late, ob_post, ov_post, ov_late, no_late, no_post)\n",
    "dim(gather)"
   ]
  },
  {
   "cell_type": "code",
   "execution_count": 49,
   "metadata": {},
   "outputs": [
    {
     "data": {
      "text/plain": [
       "                    OVOB Normalweight Obese Overweight\n",
       "gender PCS                                            \n",
       "F      latepubertal                 4     7          2\n",
       "M      latepubertal                 7     2          1"
      ]
     },
     "metadata": {},
     "output_type": "display_data"
    },
    {
     "data": {
      "text/plain": [
       "Call: xtabs(formula = ~gender + PCS + OVOB, data = gather)\n",
       "Number of cases in table: 23 \n",
       "Number of factors: 3 \n",
       "Test for independence of all factors:\n",
       "\tChisq = 3.599, df = 2, p-value = 0.1654\n",
       "\tChi-squared approximation may be incorrect"
      ]
     },
     "metadata": {},
     "output_type": "display_data"
    }
   ],
   "source": [
    "mytable <- xtabs(~gender+PCS+OVOB, data=gather)\n",
    "ftable(mytable) # print table \n",
    "summary(mytable)"
   ]
  },
  {
   "cell_type": "code",
   "execution_count": 50,
   "metadata": {},
   "outputs": [],
   "source": [
    "#write.table(gather$src_subject_id, \"~/Google Drive/ABCD/important_txt/missing_grab.txt\", sep=\"\\t\", row.names=F)"
   ]
  },
  {
   "cell_type": "code",
   "execution_count": 51,
   "metadata": {},
   "outputs": [],
   "source": [
    "#write.table(ov_early$src_subject_id, \"~/Google Drive/ABCD/important_txt/missing_grab2.txt\", sep=\"\\t\", row.names=F)"
   ]
  },
  {
   "cell_type": "code",
   "execution_count": null,
   "metadata": {},
   "outputs": [],
   "source": []
  }
 ],
 "metadata": {
  "kernelspec": {
   "display_name": "R 3.5",
   "language": "R",
   "name": "ir35"
  },
  "language_info": {
   "codemirror_mode": "r",
   "file_extension": ".r",
   "mimetype": "text/x-r-source",
   "name": "R",
   "pygments_lexer": "r",
   "version": "3.4.2"
  }
 },
 "nbformat": 4,
 "nbformat_minor": 2
}
