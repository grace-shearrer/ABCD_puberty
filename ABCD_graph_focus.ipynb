{
 "cells": [
  {
   "cell_type": "markdown",
   "metadata": {},
   "source": [
    "# Subset of Network Analysis for ABCD data"
   ]
  },
  {
   "cell_type": "markdown",
   "metadata": {},
   "source": [
    "http://dx.plos.org/10.1371/journal.pbio.1002328  \n",
    "https://www.sciencedirect.com/science/article/pii/S105381191730109X?via%3Dihub"
   ]
  },
  {
   "cell_type": "code",
   "execution_count": 1,
   "metadata": {},
   "outputs": [],
   "source": [
    "# ! pip install python-louvain"
   ]
  },
  {
   "cell_type": "code",
   "execution_count": 2,
   "metadata": {},
   "outputs": [
    {
     "name": "stderr",
     "output_type": "stream",
     "text": [
      "/Users/gracer/.local/lib/python3.6/site-packages/vispy/visuals/isocurve.py:22: UserWarning: VisPy is not yet compatible with matplotlib 2.2+\n",
      "  warnings.warn(\"VisPy is not yet compatible with matplotlib 2.2+\")\n"
     ]
    }
   ],
   "source": [
    "import glob\n",
    "import os\n",
    "import networkx as nx\n",
    "import numpy as np\n",
    "import pandas as pd\n",
    "import community\n",
    "from sklearn.metrics.cluster import normalized_mutual_info_score\n",
    "import bz2\n",
    "import pickle\n",
    "import pdb\n",
    "import statistics\n",
    "import matplotlib\n",
    "matplotlib.use(\"Qt5Agg\")\n",
    "import matplotlib.pyplot as plt\n",
    "\n",
    "from visbrain.objects import ConnectObj, SceneObj, SourceObj, BrainObj\n",
    "from visbrain.io import download_file"
   ]
  },
  {
   "cell_type": "markdown",
   "metadata": {},
   "source": [
    "## Data of interest (from R notebook)"
   ]
  },
  {
   "cell_type": "markdown",
   "metadata": {},
   "source": [
    "### Read in labels"
   ]
  },
  {
   "cell_type": "code",
   "execution_count": 3,
   "metadata": {},
   "outputs": [],
   "source": [
    "labels = pd.read_csv('/Users/gracer/Google Drive/ABCD/important_txt/locations.csv', sep=\",\")"
   ]
  },
  {
   "cell_type": "code",
   "execution_count": 4,
   "metadata": {},
   "outputs": [
    {
     "name": "stderr",
     "output_type": "stream",
     "text": [
      "IOPub data rate exceeded.\n",
      "The notebook server will temporarily stop sending output\n",
      "to the client in order to avoid crashing it.\n",
      "To change this limit, set the config variable\n",
      "`--NotebookApp.iopub_data_rate_limit`.\n",
      "\n",
      "Current values:\n",
      "NotebookApp.iopub_data_rate_limit=1000000.0 (bytes/sec)\n",
      "NotebookApp.rate_limit_window=3.0 (secs)\n",
      "\n"
     ]
    }
   ],
   "source": [
    "import pickle\n",
    "with open('/Users/gracer/Google Drive/ABCD/tmp/graphAna4', 'rb') as pickle_file:\n",
    "    try:\n",
    "        while True:\n",
    "            GRAPHS = pickle.load(pickle_file)\n",
    "            print (GRAPHS)\n",
    "    except EOFError:\n",
    "        pass"
   ]
  },
  {
   "cell_type": "code",
   "execution_count": 5,
   "metadata": {
    "scrolled": true
   },
   "outputs": [
    {
     "data": {
      "text/plain": [
       "dict_keys(['edges', 'correlations', 'mean_FC', 'graphs', 'BIGdf'])"
      ]
     },
     "execution_count": 5,
     "metadata": {},
     "output_type": "execute_result"
    }
   ],
   "source": [
    "GRAPHS.keys()"
   ]
  },
  {
   "cell_type": "markdown",
   "metadata": {},
   "source": [
    "### analysis picked back up, needed to unpickle"
   ]
  },
  {
   "cell_type": "code",
   "execution_count": 6,
   "metadata": {},
   "outputs": [],
   "source": [
    "BIGdf=GRAPHS['BIGdf']"
   ]
  },
  {
   "cell_type": "markdown",
   "metadata": {},
   "source": [
    "### Getting the standard deviation "
   ]
  },
  {
   "cell_type": "code",
   "execution_count": 7,
   "metadata": {},
   "outputs": [
    {
     "data": {
      "text/plain": [
       "[0.4557258893193297,\n",
       " 0.41891037471303944,\n",
       " 0.49077049480601465,\n",
       " 0.48699714124196514,\n",
       " 'F',\n",
       " 'latepubertal',\n",
       " 'Obese',\n",
       " 0.46310097502008724,\n",
       " 0.03338577606246018]"
      ]
     },
     "execution_count": 7,
     "metadata": {},
     "output_type": "execute_result"
    }
   ],
   "source": [
    "GRAPHS['mean_FC']['sub-NDARINVULZMADF1']"
   ]
  },
  {
   "cell_type": "markdown",
   "metadata": {},
   "source": [
    "### Making dataframe to use "
   ]
  },
  {
   "cell_type": "code",
   "execution_count": 8,
   "metadata": {},
   "outputs": [
    {
     "data": {
      "text/plain": [
       "120"
      ]
     },
     "execution_count": 8,
     "metadata": {},
     "output_type": "execute_result"
    }
   ],
   "source": [
    "PID = list(GRAPHS['mean_FC'].keys())\n",
    "len(PID)"
   ]
  },
  {
   "cell_type": "code",
   "execution_count": 9,
   "metadata": {},
   "outputs": [],
   "source": [
    "sex=[]\n",
    "PCS=[]\n",
    "OVOB=[]\n",
    "mean_FC=[]\n",
    "sd_FC=[]\n",
    "for item in list(GRAPHS['mean_FC'].values()):\n",
    "    sex.append(item[-5])\n",
    "    PCS.append(item[-4])\n",
    "    OVOB.append(item[-3])\n",
    "    mean_FC.append(item[-2])\n",
    "    sd_FC.append(item[-1])"
   ]
  },
  {
   "cell_type": "code",
   "execution_count": 10,
   "metadata": {},
   "outputs": [
    {
     "data": {
      "text/plain": [
       "120"
      ]
     },
     "execution_count": 10,
     "metadata": {},
     "output_type": "execute_result"
    }
   ],
   "source": [
    "len(OVOB)"
   ]
  },
  {
   "cell_type": "markdown",
   "metadata": {},
   "source": [
    "### Creating a dataframe "
   ]
  },
  {
   "cell_type": "code",
   "execution_count": 11,
   "metadata": {
    "scrolled": true
   },
   "outputs": [],
   "source": [
    "FCmat=np.column_stack([PID, sex, PCS, OVOB, mean_FC, sd_FC])\n",
    "FCdf=pd.DataFrame(FCmat, columns = ['subjects','sex','PCS','OVOB','mean','SD'])\n",
    "FCdf=FCdf.fillna(0)"
   ]
  },
  {
   "cell_type": "code",
   "execution_count": 12,
   "metadata": {
    "scrolled": true
   },
   "outputs": [
    {
     "data": {
      "text/html": [
       "<div>\n",
       "<style scoped>\n",
       "    .dataframe tbody tr th:only-of-type {\n",
       "        vertical-align: middle;\n",
       "    }\n",
       "\n",
       "    .dataframe tbody tr th {\n",
       "        vertical-align: top;\n",
       "    }\n",
       "\n",
       "    .dataframe thead th {\n",
       "        text-align: right;\n",
       "    }\n",
       "</style>\n",
       "<table border=\"1\" class=\"dataframe\">\n",
       "  <thead>\n",
       "    <tr style=\"text-align: right;\">\n",
       "      <th></th>\n",
       "      <th>subjects</th>\n",
       "      <th>sex</th>\n",
       "      <th>PCS</th>\n",
       "      <th>OVOB</th>\n",
       "      <th>mean</th>\n",
       "      <th>SD</th>\n",
       "    </tr>\n",
       "  </thead>\n",
       "  <tbody>\n",
       "    <tr>\n",
       "      <th>count</th>\n",
       "      <td>120</td>\n",
       "      <td>120</td>\n",
       "      <td>120</td>\n",
       "      <td>120</td>\n",
       "      <td>120</td>\n",
       "      <td>120</td>\n",
       "    </tr>\n",
       "    <tr>\n",
       "      <th>unique</th>\n",
       "      <td>120</td>\n",
       "      <td>2</td>\n",
       "      <td>3</td>\n",
       "      <td>3</td>\n",
       "      <td>120</td>\n",
       "      <td>118</td>\n",
       "    </tr>\n",
       "    <tr>\n",
       "      <th>top</th>\n",
       "      <td>sub-NDARINV5FBV2BUF</td>\n",
       "      <td>M</td>\n",
       "      <td>latepubertal</td>\n",
       "      <td>Normalweight</td>\n",
       "      <td>0.28372023993485995</td>\n",
       "      <td>NaN</td>\n",
       "    </tr>\n",
       "    <tr>\n",
       "      <th>freq</th>\n",
       "      <td>1</td>\n",
       "      <td>63</td>\n",
       "      <td>44</td>\n",
       "      <td>44</td>\n",
       "      <td>1</td>\n",
       "      <td>3</td>\n",
       "    </tr>\n",
       "  </tbody>\n",
       "</table>\n",
       "</div>"
      ],
      "text/plain": [
       "                   subjects  sex           PCS          OVOB  \\\n",
       "count                   120  120           120           120   \n",
       "unique                  120    2             3             3   \n",
       "top     sub-NDARINV5FBV2BUF    M  latepubertal  Normalweight   \n",
       "freq                      1   63            44            44   \n",
       "\n",
       "                       mean   SD  \n",
       "count                   120  120  \n",
       "unique                  120  118  \n",
       "top     0.28372023993485995  NaN  \n",
       "freq                      1    3  "
      ]
     },
     "execution_count": 12,
     "metadata": {},
     "output_type": "execute_result"
    }
   ],
   "source": [
    "FCdf.describe()"
   ]
  },
  {
   "cell_type": "markdown",
   "metadata": {},
   "source": [
    "### Testing differences in mean FC\n",
    "See the matching R notebook\n",
    "Summary:\n",
    "* No difference in the FC between PCS (no need to control for it in models)\n",
    "* Trending difference in the FC between OVOB (may need to control for it in the model)"
   ]
  },
  {
   "cell_type": "markdown",
   "metadata": {},
   "source": [
    "### Differences in modularity by subject (probs won't use, don't know what it means)"
   ]
  },
  {
   "cell_type": "code",
   "execution_count": 13,
   "metadata": {
    "scrolled": true
   },
   "outputs": [
    {
     "data": {
      "text/plain": [
       "'Obese'"
      ]
     },
     "execution_count": 13,
     "metadata": {},
     "output_type": "execute_result"
    }
   ],
   "source": [
    "GRAPHS['graphs']['sub-NDARINVULZMADF1'][10]"
   ]
  },
  {
   "cell_type": "code",
   "execution_count": 14,
   "metadata": {
    "scrolled": true
   },
   "outputs": [
    {
     "data": {
      "text/html": [
       "<div>\n",
       "<style scoped>\n",
       "    .dataframe tbody tr th:only-of-type {\n",
       "        vertical-align: middle;\n",
       "    }\n",
       "\n",
       "    .dataframe tbody tr th {\n",
       "        vertical-align: top;\n",
       "    }\n",
       "\n",
       "    .dataframe thead th {\n",
       "        text-align: right;\n",
       "    }\n",
       "</style>\n",
       "<table border=\"1\" class=\"dataframe\">\n",
       "  <thead>\n",
       "    <tr style=\"text-align: right;\">\n",
       "      <th></th>\n",
       "      <th>subjects</th>\n",
       "      <th>sex</th>\n",
       "      <th>PCS</th>\n",
       "      <th>OVOB</th>\n",
       "    </tr>\n",
       "  </thead>\n",
       "  <tbody>\n",
       "    <tr>\n",
       "      <th>0</th>\n",
       "      <td>sub-NDARINVULZMADF1</td>\n",
       "      <td>F</td>\n",
       "      <td>latepubertal</td>\n",
       "      <td>Obese</td>\n",
       "    </tr>\n",
       "    <tr>\n",
       "      <th>1</th>\n",
       "      <td>sub-NDARINVULZMADF1</td>\n",
       "      <td>F</td>\n",
       "      <td>latepubertal</td>\n",
       "      <td>Obese</td>\n",
       "    </tr>\n",
       "    <tr>\n",
       "      <th>2</th>\n",
       "      <td>sub-NDARINVULZMADF1</td>\n",
       "      <td>F</td>\n",
       "      <td>latepubertal</td>\n",
       "      <td>Obese</td>\n",
       "    </tr>\n",
       "    <tr>\n",
       "      <th>3</th>\n",
       "      <td>sub-NDARINVULZMADF1</td>\n",
       "      <td>F</td>\n",
       "      <td>latepubertal</td>\n",
       "      <td>Obese</td>\n",
       "    </tr>\n",
       "    <tr>\n",
       "      <th>4</th>\n",
       "      <td>sub-NDARINVD9L81NY5</td>\n",
       "      <td>F</td>\n",
       "      <td>latepubertal</td>\n",
       "      <td>Obese</td>\n",
       "    </tr>\n",
       "  </tbody>\n",
       "</table>\n",
       "</div>"
      ],
      "text/plain": [
       "              subjects sex           PCS   OVOB\n",
       "0  sub-NDARINVULZMADF1   F  latepubertal  Obese\n",
       "1  sub-NDARINVULZMADF1   F  latepubertal  Obese\n",
       "2  sub-NDARINVULZMADF1   F  latepubertal  Obese\n",
       "3  sub-NDARINVULZMADF1   F  latepubertal  Obese\n",
       "4  sub-NDARINVD9L81NY5   F  latepubertal  Obese"
      ]
     },
     "execution_count": 14,
     "metadata": {},
     "output_type": "execute_result"
    }
   ],
   "source": [
    "categories = BIGdf[['subjects', 'sex','PCS','OVOB']]\n",
    "categories.head()"
   ]
  },
  {
   "cell_type": "code",
   "execution_count": 15,
   "metadata": {},
   "outputs": [],
   "source": [
    "x=BIGdf[1].value_counts().idxmax()"
   ]
  },
  {
   "cell_type": "code",
   "execution_count": 16,
   "metadata": {},
   "outputs": [],
   "source": [
    "maxes={}\n",
    "for sub in PID:\n",
    "    subset=BIGdf.loc[(BIGdf['subjects'] == sub)]\n",
    "    for col in subset:\n",
    "        macks = subset[col].value_counts().idxmax()\n",
    "        maxes.setdefault(sub, []).append(macks)\n",
    "    #     print(PARTdf[col].value_counts().idxmax())"
   ]
  },
  {
   "cell_type": "code",
   "execution_count": 17,
   "metadata": {},
   "outputs": [],
   "source": [
    "subjects=[]\n",
    "max_vals=[]\n",
    "for key, value in maxes.items():\n",
    "#     print(item.keys())\n",
    "    subjects.append(key)\n",
    "    max_vals.append(list(value))"
   ]
  },
  {
   "cell_type": "code",
   "execution_count": 18,
   "metadata": {},
   "outputs": [
    {
     "name": "stdout",
     "output_type": "stream",
     "text": [
      "(120,)\n",
      "(120, 270)\n"
     ]
    }
   ],
   "source": [
    "Subar = np.array(subjects)\n",
    "Valar=np.array(max_vals)\n",
    "print(Subar.shape)\n",
    "print(Valar.shape)"
   ]
  },
  {
   "cell_type": "code",
   "execution_count": 19,
   "metadata": {
    "scrolled": true
   },
   "outputs": [],
   "source": [
    "MAXdf = pd.DataFrame(Valar)\n",
    "MAXdf['subjects'] = Subar"
   ]
  },
  {
   "cell_type": "code",
   "execution_count": 20,
   "metadata": {},
   "outputs": [],
   "source": [
    "# MAXdf.to_csv(\"/Users/gracer/Google Drive/ABCD/tmp/MAX.csv\", sep=',', index=False)"
   ]
  },
  {
   "cell_type": "code",
   "execution_count": 21,
   "metadata": {},
   "outputs": [],
   "source": [
    "norm_max=[]\n",
    "subset=MAXdf.loc[(MAXdf[267] == 'Normalweight')]\n",
    "for col in subset:\n",
    "    mechs = subset[col].value_counts().idxmax()\n",
    "    norm_max.append(mechs)\n",
    "#     print(PARTdf[col].value_counts().idxmax())"
   ]
  },
  {
   "cell_type": "code",
   "execution_count": 22,
   "metadata": {},
   "outputs": [],
   "source": [
    "ov_max=[]\n",
    "subset=MAXdf.loc[(MAXdf[267] == 'Overweight')]\n",
    "for col in subset:\n",
    "    mechs = subset[col].value_counts().idxmax()\n",
    "    ov_max.append(mechs)\n",
    "#     print(PARTdf[col].value_counts().idxmax())"
   ]
  },
  {
   "cell_type": "code",
   "execution_count": 23,
   "metadata": {},
   "outputs": [],
   "source": [
    "ob_max=[]\n",
    "subset=MAXdf.loc[(MAXdf[267] == 'Obese')]\n",
    "for col in subset:\n",
    "    mechs = subset[col].value_counts().idxmax()\n",
    "    ob_max.append(mechs)"
   ]
  },
  {
   "cell_type": "code",
   "execution_count": 24,
   "metadata": {},
   "outputs": [
    {
     "name": "stdout",
     "output_type": "stream",
     "text": [
      "(271,)\n",
      "(271,)\n",
      "(271,)\n"
     ]
    }
   ],
   "source": [
    "normAR = np.array(norm_max)\n",
    "ovAR = np.array(ov_max)\n",
    "obAR = np.array(ob_max)\n",
    "\n",
    "print(normAR.shape)\n",
    "print(ovAR.shape)\n",
    "print(obAR.shape)"
   ]
  },
  {
   "cell_type": "code",
   "execution_count": 25,
   "metadata": {},
   "outputs": [
    {
     "data": {
      "text/plain": [
       "271"
      ]
     },
     "execution_count": 25,
     "metadata": {},
     "output_type": "execute_result"
    }
   ],
   "source": [
    "len(ob_max)"
   ]
  },
  {
   "cell_type": "markdown",
   "metadata": {},
   "source": [
    "### Normalized information score  \n",
    "sklearn.metrics.normalized_mutual_info_score(labels_true [group 1], labels_pred [group 2], average_method=’warn’)"
   ]
  },
  {
   "cell_type": "code",
   "execution_count": 26,
   "metadata": {},
   "outputs": [],
   "source": [
    "diff_no_ov=normalized_mutual_info_score(norm_max, ov_max)"
   ]
  },
  {
   "cell_type": "code",
   "execution_count": 27,
   "metadata": {},
   "outputs": [],
   "source": [
    "diff_no_ob=normalized_mutual_info_score(norm_max, ob_max)"
   ]
  },
  {
   "cell_type": "code",
   "execution_count": 28,
   "metadata": {},
   "outputs": [],
   "source": [
    "diff_ov_ob=normalized_mutual_info_score(ov_max, ob_max)"
   ]
  },
  {
   "cell_type": "code",
   "execution_count": 29,
   "metadata": {},
   "outputs": [
    {
     "data": {
      "text/plain": [
       "0.4244090131216969"
      ]
     },
     "execution_count": 29,
     "metadata": {},
     "output_type": "execute_result"
    }
   ],
   "source": [
    "diff_no_ob"
   ]
  },
  {
   "cell_type": "code",
   "execution_count": 30,
   "metadata": {},
   "outputs": [
    {
     "data": {
      "text/plain": [
       "0.4249421843186356"
      ]
     },
     "execution_count": 30,
     "metadata": {},
     "output_type": "execute_result"
    }
   ],
   "source": [
    "diff_no_ov"
   ]
  },
  {
   "cell_type": "code",
   "execution_count": 31,
   "metadata": {},
   "outputs": [
    {
     "data": {
      "text/plain": [
       "0.3698487741255595"
      ]
     },
     "execution_count": 31,
     "metadata": {},
     "output_type": "execute_result"
    }
   ],
   "source": [
    "diff_ov_ob"
   ]
  },
  {
   "cell_type": "markdown",
   "metadata": {},
   "source": [
    "##  Create a Mega graph by OVOB and PCS"
   ]
  },
  {
   "cell_type": "code",
   "execution_count": 32,
   "metadata": {},
   "outputs": [],
   "source": [
    "def make_total_graphs(dict_o_data):\n",
    "    mylist=[]\n",
    "    for key, val_list in dict_o_data.items():\n",
    "#         print(key)\n",
    "        for i in val_list:\n",
    "            cor_matrix = np.asarray(i)\n",
    "            mylist.append(cor_matrix)\n",
    "    x=np.stack(mylist, axis=2)\n",
    "    mu=np.mean(x, axis=(2))\n",
    "    return(mu)"
   ]
  },
  {
   "cell_type": "code",
   "execution_count": 33,
   "metadata": {},
   "outputs": [
    {
     "data": {
      "text/plain": [
       "dict_keys(['edges', 'correlations', 'mean_FC', 'graphs', 'BIGdf'])"
      ]
     },
     "execution_count": 33,
     "metadata": {},
     "output_type": "execute_result"
    }
   ],
   "source": [
    "GRAPHS.keys()"
   ]
  },
  {
   "cell_type": "code",
   "execution_count": 34,
   "metadata": {
    "scrolled": true
   },
   "outputs": [
    {
     "data": {
      "text/plain": [
       "[matrix([[0.      , 0.297177, 0.366261, ..., 0.712325, 0.027972, 0.032292],\n",
       "         [0.297177, 0.      , 1.067256, ..., 0.267867, 0.482737, 0.50939 ],\n",
       "         [0.366261, 1.067256, 0.      , ..., 0.583668, 0.510977, 0.520726],\n",
       "         ...,\n",
       "         [0.712325, 0.267867, 0.583668, ..., 0.      , 0.253103, 0.211843],\n",
       "         [0.027972, 0.482737, 0.510977, ..., 0.253103, 0.      , 1.947065],\n",
       "         [0.032292, 0.50939 , 0.520726, ..., 0.211843, 1.947065, 0.      ]]),\n",
       " matrix([[ 0.      ,  0.618682,  0.288411, ...,  0.212559,  0.336378,\n",
       "           0.047735],\n",
       "         [ 0.618682,  0.      ,  0.972095, ...,  0.283186,  0.510952,\n",
       "           0.318188],\n",
       "         [ 0.288411,  0.972095, 18.714974, ...,  0.419613,  0.701422,\n",
       "           0.603747],\n",
       "         ...,\n",
       "         [ 0.212559,  0.283186,  0.419613, ...,  0.      ,  0.383667,\n",
       "           0.340115],\n",
       "         [ 0.336378,  0.510952,  0.701422, ...,  0.383667,  0.      ,\n",
       "           1.268736],\n",
       "         [ 0.047735,  0.318188,  0.603747, ...,  0.340115,  1.268736,\n",
       "           0.      ]])]"
      ]
     },
     "execution_count": 34,
     "metadata": {},
     "output_type": "execute_result"
    }
   ],
   "source": [
    "list(GRAPHS['correlations'].values())[1]"
   ]
  },
  {
   "cell_type": "code",
   "execution_count": 35,
   "metadata": {
    "scrolled": false
   },
   "outputs": [],
   "source": [
    "no_subset=categories.loc[(categories['OVOB'] == 'Normalweight')]\n",
    "no_dict = {k: GRAPHS['correlations'][k] for k in no_subset['subjects'] if k in GRAPHS['correlations']}\n",
    "\n",
    "ov_subset=categories.loc[(categories['OVOB'] == 'Overweight')]\n",
    "ov_dict = {k: GRAPHS['correlations'][k] for k in ov_subset['subjects'] if k in GRAPHS['correlations']}\n",
    "\n",
    "ob_subset=categories.loc[(categories['OVOB'] == 'Obese')]\n",
    "ob_dict = {k: GRAPHS['correlations'][k] for k in ob_subset['subjects'] if k in GRAPHS['correlations']}\n"
   ]
  },
  {
   "cell_type": "code",
   "execution_count": 36,
   "metadata": {
    "scrolled": false
   },
   "outputs": [],
   "source": [
    "early_subset=categories.loc[(categories['PCS'] == 'earlypubertal')]\n",
    "early_dict = {k: GRAPHS['correlations'][k] for k in early_subset['subjects'] if k in GRAPHS['correlations']}\n",
    "\n",
    "late_subset=categories.loc[(categories['PCS'] == 'latepubertal')]\n",
    "late_dict = {k: GRAPHS['correlations'][k] for k in late_subset['subjects'] if k in GRAPHS['correlations']}\n",
    "\n",
    "mid_subset=categories.loc[(categories['PCS'] == 'midpubertal')]\n",
    "mid_dict = {k: GRAPHS['correlations'][k] for k in mid_subset['subjects'] if k in GRAPHS['correlations']}\n"
   ]
  },
  {
   "cell_type": "code",
   "execution_count": 37,
   "metadata": {
    "scrolled": true
   },
   "outputs": [],
   "source": [
    "mean_no=make_total_graphs(no_dict)\n",
    "mean_ov=make_total_graphs(ov_dict)\n",
    "mean_ob=make_total_graphs(ob_dict)"
   ]
  },
  {
   "cell_type": "code",
   "execution_count": 38,
   "metadata": {},
   "outputs": [],
   "source": [
    "mean_early=make_total_graphs(early_dict)\n",
    "mean_late=make_total_graphs(late_dict)\n",
    "mean_mid=make_total_graphs(mid_dict)"
   ]
  },
  {
   "cell_type": "markdown",
   "metadata": {},
   "source": [
    "#### Creates graph using the data of the correlation matrix"
   ]
  },
  {
   "cell_type": "code",
   "execution_count": 39,
   "metadata": {},
   "outputs": [],
   "source": [
    "noG = nx.from_numpy_matrix(mean_no)\n",
    "ovG = nx.from_numpy_matrix(mean_ov)\n",
    "obG = nx.from_numpy_matrix(mean_ob)\n",
    "OVOBgraphs = [noG, ovG, obG]"
   ]
  },
  {
   "cell_type": "code",
   "execution_count": 40,
   "metadata": {},
   "outputs": [],
   "source": [
    "earlyG = nx.from_numpy_matrix(mean_early)\n",
    "midG = nx.from_numpy_matrix(mean_mid)\n",
    "lateG = nx.from_numpy_matrix(mean_late)\n",
    "PCSgraphs = [earlyG, midG, lateG]"
   ]
  },
  {
   "cell_type": "code",
   "execution_count": 41,
   "metadata": {},
   "outputs": [],
   "source": [
    "for graph in OVOBgraphs:\n",
    "    for i, nlrow in labels.iterrows():\n",
    "        graph.node[i].update(nlrow[0:].to_dict())"
   ]
  },
  {
   "cell_type": "code",
   "execution_count": 42,
   "metadata": {},
   "outputs": [],
   "source": [
    "for graph in PCSgraphs:\n",
    "    for i, nlrow in labels.iterrows():\n",
    "        graph.node[i].update(nlrow[0:].to_dict())"
   ]
  },
  {
   "cell_type": "code",
   "execution_count": 43,
   "metadata": {},
   "outputs": [],
   "source": [
    "no_edges,no_weights = zip(*nx.get_edge_attributes(noG,'weight').items())\n",
    "ov_edges,ov_weights = zip(*nx.get_edge_attributes(ovG,'weight').items())\n",
    "ob_edges,ob_weights = zip(*nx.get_edge_attributes(obG,'weight').items())"
   ]
  },
  {
   "cell_type": "code",
   "execution_count": 44,
   "metadata": {},
   "outputs": [],
   "source": [
    "early_edges, early_weights = zip(*nx.get_edge_attributes(earlyG,'weight').items())\n",
    "mid_edges,mid_weights = zip(*nx.get_edge_attributes(midG,'weight').items())\n",
    "late_edges,late_weights = zip(*nx.get_edge_attributes(lateG,'weight').items())"
   ]
  },
  {
   "cell_type": "code",
   "execution_count": 45,
   "metadata": {},
   "outputs": [],
   "source": [
    "for graph in OVOBgraphs:\n",
    "    d = nx.degree(graph)\n",
    "    list(d)[0]\n",
    "    nodelist, node_sizes = zip(*list(d))"
   ]
  },
  {
   "cell_type": "code",
   "execution_count": 46,
   "metadata": {},
   "outputs": [],
   "source": [
    "for graph in PCSgraphs:\n",
    "    d = nx.degree(graph)\n",
    "    list(d)[0]\n",
    "    nodelist, node_sizes = zip(*list(d))"
   ]
  },
  {
   "cell_type": "code",
   "execution_count": 47,
   "metadata": {},
   "outputs": [],
   "source": [
    "def create_corr_network(G, corr_direction, min_correlation):\n",
    "    ##Creates a copy of the graph\n",
    "    H = G.copy()\n",
    "    \n",
    "    ##Checks all the edges and removes some based on corr_direction\n",
    "    for stock1, stock2, weight in list(G.edges(data=True)):\n",
    "        ##if we only want to see the positive correlations we then delete the edges with weight smaller than 0        \n",
    "        if corr_direction == \"positive\":\n",
    "            ####it adds a minimum value for correlation. \n",
    "            ####If correlation weaker than the min, then it deletes the edge\n",
    "            if weight[\"weight\"] <0 or weight[\"weight\"] < min_correlation:\n",
    "                H.remove_edge(stock1, stock2)\n",
    "        ##this part runs if the corr_direction is negative and removes edges with weights equal or largen than 0\n",
    "        else:\n",
    "            ####it adds a minimum value for correlation. \n",
    "            ####If correlation weaker than the min, then it deletes the edge\n",
    "            if weight[\"weight\"] >=0 or weight[\"weight\"] > min_correlation:\n",
    "                H.remove_edge(stock1, stock2)\n",
    "                \n",
    "    \n",
    "    #crates a list for edges and for the weights\n",
    "    edges,weights = zip(*nx.get_edge_attributes(H,'weight').items())\n",
    "    \n",
    "    ### increases the value of weights, so that they are more visible in the graph\n",
    "    weights = tuple([(1+abs(x))**1 for x in weights])\n",
    "    \n",
    "    #####calculates the degree of each node\n",
    "    d = nx.degree(H)\n",
    "    #####creates list of nodes and a list their degrees that will be used later for their sizes\n",
    "    nodelist, node_sizes = zip(*list(d))\n",
    "    return(H)"
   ]
  },
  {
   "cell_type": "code",
   "execution_count": 48,
   "metadata": {},
   "outputs": [],
   "source": [
    "def create_corr_network_1(G):\n",
    "    #crates a list for edges and for the weights\n",
    "    edges,weights = zip(*nx.get_edge_attributes(G,'weight').items())\n",
    "\n",
    "    #positions\n",
    "    positions=nx.circular_layout(G)\n",
    "    \n",
    "    #Figure size\n",
    "    plt.figure(figsize=(15,15))\n",
    "\n",
    "    #draws nodes\n",
    "    nx.draw_networkx_nodes(G,positions,node_color='#DA70D6',\n",
    "                           node_size=500,alpha=0.8)\n",
    "    \n",
    "    #Styling for labels\n",
    "    nx.draw_networkx_labels(G, positions, font_size=8, \n",
    "                            font_family='sans-serif')\n",
    "        \n",
    "    #draws the edges\n",
    "    nx.draw_networkx_edges(G, positions, edge_list=edges,style='solid')\n",
    "    \n",
    "    # displays the graph without axis\n",
    "    plt.axis('off')\n",
    "    #saves image\n",
    "    plt.savefig(\"part1.png\", format=\"PNG\")\n",
    "    plt.show() \n",
    "\n",
    "#create_corr_network_1(G)"
   ]
  },
  {
   "cell_type": "code",
   "execution_count": 49,
   "metadata": {},
   "outputs": [],
   "source": [
    "noH=create_corr_network(noG, \"positive\",0)\n",
    "ovH=create_corr_network(ovG, \"positive\", 0)\n",
    "obH=create_corr_network(obG, \"positive\", 0)\n",
    "saveme={}\n",
    "saveme['noH']=noH\n",
    "saveme['ovH']=ovH\n",
    "saveme['obH']=obH"
   ]
  },
  {
   "cell_type": "code",
   "execution_count": 50,
   "metadata": {},
   "outputs": [],
   "source": [
    "earlyH=create_corr_network(earlyG, \"positive\",0)\n",
    "midH=create_corr_network(midG, \"positive\", 0)\n",
    "lateH=create_corr_network(lateG, \"positive\", 0)\n",
    "saveme={}\n",
    "saveme['earlyH']=earlyH\n",
    "saveme['midH']=midH\n",
    "saveme['lateH']=lateH"
   ]
  },
  {
   "cell_type": "markdown",
   "metadata": {},
   "source": [
    "### Getting partition values with the large graph"
   ]
  },
  {
   "cell_type": "code",
   "execution_count": 94,
   "metadata": {},
   "outputs": [],
   "source": [
    "noPART = community.best_partition(noH)\n",
    "ovPART = community.best_partition(ovH)\n",
    "obPART = community.best_partition(obH)\n",
    "\n",
    "# noPART.values()"
   ]
  },
  {
   "cell_type": "code",
   "execution_count": 99,
   "metadata": {},
   "outputs": [],
   "source": [
    "earlyPART = community.best_partition(earlyH)\n",
    "midPART = community.best_partition(midH)\n",
    "latePART = community.best_partition(lateH)\n",
    "\n",
    "# noPART.values()"
   ]
  },
  {
   "cell_type": "code",
   "execution_count": 120,
   "metadata": {},
   "outputs": [],
   "source": [
    "noPARTvalues = np.asarray(list(noPART.values()))\n",
    "obPARTvalues = np.asarray(list(obPART.values()))\n",
    "ovPARTvalues = np.asarray(list(ovPART.values()))"
   ]
  },
  {
   "cell_type": "code",
   "execution_count": 121,
   "metadata": {},
   "outputs": [],
   "source": [
    "earlyPARTvalues = np.asarray(list(earlyPART.values()))\n",
    "latePARTvalues = np.asarray(list(latePART.values()))\n",
    "midPARTvalues = np.asarray(list(midPART.values()))"
   ]
  },
  {
   "cell_type": "markdown",
   "metadata": {},
   "source": [
    "### Checking the normalized mutual disribution information"
   ]
  },
  {
   "cell_type": "code",
   "execution_count": 53,
   "metadata": {},
   "outputs": [
    {
     "name": "stdout",
     "output_type": "stream",
     "text": [
      "0.6622799993391564\n"
     ]
    }
   ],
   "source": [
    "diff_no_ov=normalized_mutual_info_score(list(noPART.values()), list(ovPART.values()))\n",
    "print(diff_no_ov)"
   ]
  },
  {
   "cell_type": "code",
   "execution_count": 54,
   "metadata": {},
   "outputs": [
    {
     "name": "stdout",
     "output_type": "stream",
     "text": [
      "0.6443749434984919\n"
     ]
    }
   ],
   "source": [
    "diff_no_ob=normalized_mutual_info_score(list(noPART.values()), list(obPART.values()))\n",
    "print(diff_no_ob)"
   ]
  },
  {
   "cell_type": "code",
   "execution_count": 55,
   "metadata": {},
   "outputs": [
    {
     "name": "stdout",
     "output_type": "stream",
     "text": [
      "0.7467054519979314\n"
     ]
    }
   ],
   "source": [
    "diff_early_mid=normalized_mutual_info_score(list(earlyPART.values()), list(midPART.values()))\n",
    "print(diff_early_mid)"
   ]
  },
  {
   "cell_type": "code",
   "execution_count": 56,
   "metadata": {},
   "outputs": [
    {
     "name": "stdout",
     "output_type": "stream",
     "text": [
      "0.6956449221096923\n"
     ]
    }
   ],
   "source": [
    "diff_early_late=normalized_mutual_info_score(list(earlyPART.values()), list(latePART.values()))\n",
    "print(diff_early_late)"
   ]
  },
  {
   "cell_type": "markdown",
   "metadata": {},
   "source": [
    "### Summary so far\n",
    "Larger difference between the normal weight and obese compared to the normal weight and the overweight"
   ]
  },
  {
   "cell_type": "code",
   "execution_count": 57,
   "metadata": {},
   "outputs": [],
   "source": [
    "color_dic = {0:'blue',1:'red',2:'green',3:'purple',4:'yellow',5:'pink',6:'black',7:'orange', 8:'cyan'}"
   ]
  },
  {
   "cell_type": "code",
   "execution_count": 58,
   "metadata": {
    "scrolled": true
   },
   "outputs": [],
   "source": [
    "PARTS=[noPART, ovPART ,obPART]\n",
    "for item in PARTS:\n",
    "    for key, value in item.items():\n",
    "        item[key]=(color_dic[value])\n",
    "#     print(item)"
   ]
  },
  {
   "cell_type": "code",
   "execution_count": 59,
   "metadata": {},
   "outputs": [],
   "source": [
    "for key, value in noPART.items():\n",
    "#     print(\"this is the key %s\"%key)\n",
    "#     print(value)\n",
    "#     print(noH.node(data=True)[key])\n",
    "    noH.node(data=True)[key].update({'color':value})\n"
   ]
  },
  {
   "cell_type": "code",
   "execution_count": 60,
   "metadata": {},
   "outputs": [
    {
     "name": "stdout",
     "output_type": "stream",
     "text": [
      "6.0\n"
     ]
    },
    {
     "name": "stderr",
     "output_type": "stream",
     "text": [
      "WARNING: QCoreApplication::exec: The event loop is already running\n"
     ]
    }
   ],
   "source": [
    "#drawing\n",
    "size = float(len(set(noPART.values())))\n",
    "print(size)\n",
    "pos = nx.spring_layout(noH)\n",
    "count = 0\n",
    "for com in set(noPART.values()) :\n",
    "    count = count + 1.\n",
    "    list_nodes = [nodes for nodes in noPART.keys()\n",
    "                                if noPART[nodes] == com]\n",
    "    nx.draw_networkx_nodes(noH, pos, list_nodes, node_size = 20,\n",
    "                                node_color = str(count / size))\n",
    "\n",
    "\n",
    "nx.draw_networkx_edges(noH, pos, alpha=0.1)\n",
    "plt.show()"
   ]
  },
  {
   "cell_type": "code",
   "execution_count": 61,
   "metadata": {},
   "outputs": [],
   "source": [
    "for key, value in ovPART.items():\n",
    "    ovH.node(data=True)[key].update({'color':value})"
   ]
  },
  {
   "cell_type": "code",
   "execution_count": 62,
   "metadata": {},
   "outputs": [],
   "source": [
    "for key, value in obPART.items():\n",
    "    obH.node(data=True)[key].update({'color':value})"
   ]
  },
  {
   "cell_type": "code",
   "execution_count": 63,
   "metadata": {},
   "outputs": [],
   "source": [
    "# list(H.edges(data=True))[0]\n",
    "# H.edges(data=True)\n",
    "no_edge_weights = [e[2]['weight'] for e in noH.edges(data=True)]\n",
    "ov_edge_weights = [e[2]['weight'] for e in ovH.edges(data=True)]\n",
    "ob_edge_weights = [e[2]['weight'] for e in obH.edges(data=True)]\n"
   ]
  },
  {
   "cell_type": "code",
   "execution_count": 64,
   "metadata": {},
   "outputs": [],
   "source": [
    "# Define node positions data structure (dict) for plotting\n",
    "no_node_colors = {node[0]: (node[1]['color']) for node in noH.nodes(data=True)}\n",
    "ov_node_colors = {node[0]: (node[1]['color']) for node in ovH.nodes(data=True)}\n",
    "ob_node_colors = {node[0]: (node[1]['color']) for node in obH.nodes(data=True)}\n",
    "\n",
    "# Preview of node_positions with a bit of hack (there is no head/slice method for dictionaries).\n",
    "#dict(list(node_colors.items())[0:5])\n",
    "#print(G.node(data=True))\n",
    "no_list_colors=list(no_node_colors.values())\n",
    "ov_list_colors=list(ov_node_colors.values())\n",
    "ob_list_colors=list(ob_node_colors.values())"
   ]
  },
  {
   "cell_type": "code",
   "execution_count": 85,
   "metadata": {},
   "outputs": [
    {
     "data": {
      "text/plain": [
       "['blue',\n",
       " 'blue',\n",
       " 'blue',\n",
       " 'blue',\n",
       " 'blue',\n",
       " 'blue',\n",
       " 'blue',\n",
       " 'blue',\n",
       " 'blue',\n",
       " 'blue',\n",
       " 'blue',\n",
       " 'blue',\n",
       " 'blue',\n",
       " 'blue',\n",
       " 'blue',\n",
       " 'blue',\n",
       " 'blue',\n",
       " 'blue',\n",
       " 'blue',\n",
       " 'blue',\n",
       " 'blue',\n",
       " 'blue',\n",
       " 'blue',\n",
       " 'blue',\n",
       " 'blue',\n",
       " 'blue',\n",
       " 'blue',\n",
       " 'blue',\n",
       " 'blue',\n",
       " 'blue',\n",
       " 'red',\n",
       " 'red',\n",
       " 'red',\n",
       " 'red',\n",
       " 'red',\n",
       " 'blue',\n",
       " 'blue',\n",
       " 'blue',\n",
       " 'blue',\n",
       " 'blue',\n",
       " 'green',\n",
       " 'blue',\n",
       " 'blue',\n",
       " 'green',\n",
       " 'green',\n",
       " 'green',\n",
       " 'green',\n",
       " 'green',\n",
       " 'green',\n",
       " 'red',\n",
       " 'red',\n",
       " 'red',\n",
       " 'red',\n",
       " 'red',\n",
       " 'red',\n",
       " 'red',\n",
       " 'red',\n",
       " 'red',\n",
       " 'red',\n",
       " 'red',\n",
       " 'red',\n",
       " 'red',\n",
       " 'purple',\n",
       " 'green',\n",
       " 'green',\n",
       " 'purple',\n",
       " 'green',\n",
       " 'purple',\n",
       " 'purple',\n",
       " 'yellow',\n",
       " 'yellow',\n",
       " 'yellow',\n",
       " 'purple',\n",
       " 'pink',\n",
       " 'purple',\n",
       " 'purple',\n",
       " 'purple',\n",
       " 'purple',\n",
       " 'purple',\n",
       " 'purple',\n",
       " 'blue',\n",
       " 'purple',\n",
       " 'pink',\n",
       " 'green',\n",
       " 'green',\n",
       " 'green',\n",
       " 'green',\n",
       " 'green',\n",
       " 'green',\n",
       " 'green',\n",
       " 'green',\n",
       " 'green',\n",
       " 'green',\n",
       " 'green',\n",
       " 'green',\n",
       " 'green',\n",
       " 'green',\n",
       " 'green',\n",
       " 'green',\n",
       " 'green',\n",
       " 'green',\n",
       " 'green',\n",
       " 'yellow',\n",
       " 'yellow',\n",
       " 'yellow',\n",
       " 'yellow',\n",
       " 'yellow',\n",
       " 'green',\n",
       " 'green',\n",
       " 'yellow',\n",
       " 'purple',\n",
       " 'purple',\n",
       " 'purple',\n",
       " 'purple',\n",
       " 'yellow',\n",
       " 'yellow',\n",
       " 'pink',\n",
       " 'purple',\n",
       " 'green',\n",
       " 'green',\n",
       " 'pink',\n",
       " 'purple',\n",
       " 'purple',\n",
       " 'blue',\n",
       " 'pink',\n",
       " 'purple',\n",
       " 'purple',\n",
       " 'purple',\n",
       " 'purple',\n",
       " 'purple',\n",
       " 'purple',\n",
       " 'purple',\n",
       " 'purple',\n",
       " 'purple',\n",
       " 'purple',\n",
       " 'purple',\n",
       " 'purple',\n",
       " 'purple',\n",
       " 'purple',\n",
       " 'purple',\n",
       " 'purple',\n",
       " 'purple',\n",
       " 'purple',\n",
       " 'purple',\n",
       " 'purple',\n",
       " 'purple',\n",
       " 'purple',\n",
       " 'purple',\n",
       " 'purple',\n",
       " 'purple',\n",
       " 'purple',\n",
       " 'purple',\n",
       " 'purple',\n",
       " 'purple',\n",
       " 'purple',\n",
       " 'purple',\n",
       " 'blue',\n",
       " 'green',\n",
       " 'green',\n",
       " 'blue',\n",
       " 'blue',\n",
       " 'purple',\n",
       " 'green',\n",
       " 'green',\n",
       " 'green',\n",
       " 'green',\n",
       " 'green',\n",
       " 'green',\n",
       " 'blue',\n",
       " 'blue',\n",
       " 'blue',\n",
       " 'blue',\n",
       " 'pink',\n",
       " 'blue',\n",
       " 'green',\n",
       " 'green',\n",
       " 'green',\n",
       " 'blue',\n",
       " 'green',\n",
       " 'green',\n",
       " 'green',\n",
       " 'blue',\n",
       " 'pink',\n",
       " 'blue',\n",
       " 'green',\n",
       " 'green',\n",
       " 'green',\n",
       " 'green',\n",
       " 'green',\n",
       " 'green',\n",
       " 'green',\n",
       " 'green',\n",
       " 'green',\n",
       " 'green',\n",
       " 'green',\n",
       " 'green',\n",
       " 'green',\n",
       " 'green',\n",
       " 'green',\n",
       " 'red',\n",
       " 'green',\n",
       " 'red',\n",
       " 'red',\n",
       " 'purple',\n",
       " 'green',\n",
       " 'green',\n",
       " 'red',\n",
       " 'green',\n",
       " 'green',\n",
       " 'green',\n",
       " 'green',\n",
       " 'green',\n",
       " 'blue',\n",
       " 'red',\n",
       " 'purple',\n",
       " 'red',\n",
       " 'red',\n",
       " 'red',\n",
       " 'red',\n",
       " 'green',\n",
       " 'green',\n",
       " 'blue',\n",
       " 'purple',\n",
       " 'blue',\n",
       " 'purple',\n",
       " 'blue',\n",
       " 'blue',\n",
       " 'purple',\n",
       " 'blue',\n",
       " 'purple',\n",
       " 'blue',\n",
       " 'blue',\n",
       " 'purple',\n",
       " 'purple',\n",
       " 'purple',\n",
       " 'purple',\n",
       " 'purple',\n",
       " 'purple',\n",
       " 'green',\n",
       " 'yellow',\n",
       " 'green',\n",
       " 'yellow',\n",
       " 'purple',\n",
       " 'purple',\n",
       " 'yellow',\n",
       " 'yellow',\n",
       " 'yellow',\n",
       " 'green',\n",
       " 'yellow',\n",
       " 'green',\n",
       " 'green',\n",
       " 'purple',\n",
       " 'purple',\n",
       " 'purple',\n",
       " 'green',\n",
       " 'purple',\n",
       " 'purple',\n",
       " 'purple',\n",
       " 'yellow',\n",
       " 'yellow',\n",
       " 'yellow',\n",
       " 'yellow',\n",
       " 'purple',\n",
       " 'purple']"
      ]
     },
     "execution_count": 85,
     "metadata": {},
     "output_type": "execute_result"
    }
   ],
   "source": [
    "no_list_colors"
   ]
  },
  {
   "cell_type": "code",
   "execution_count": 65,
   "metadata": {},
   "outputs": [],
   "source": [
    "no_node_positions = {node[0]: (node[1]['X'], -node[1]['Y']) for node in noH.nodes(data=True)}\n",
    "ov_node_positions = {node[0]: (node[1]['X'], -node[1]['Y']) for node in ovH.nodes(data=True)}\n",
    "ob_node_positions = {node[0]: (node[1]['X'], -node[1]['Y']) for node in obH.nodes(data=True)}"
   ]
  },
  {
   "cell_type": "code",
   "execution_count": 66,
   "metadata": {},
   "outputs": [],
   "source": [
    "# Define node positions data structure (dict) for plotting\n",
    "# node_positions = {node[0]: (node[1]['X'], -node[1]['Y']) for node in H.nodes(data=True)}\n",
    "# node_colors = {node[0]: (node[1]['color']) for node in H.nodes(data=True)}\n",
    "\n",
    "# Preview of node_positions with a bit of hack (there is no head/slice method for dictionaries).\n",
    "#dict(list(node_colors.items())[0:5])\n",
    "#print(G.node(data=True))\n",
    "# list_colors=list(node_colors.values())"
   ]
  },
  {
   "cell_type": "markdown",
   "metadata": {},
   "source": [
    "##### PCS"
   ]
  },
  {
   "cell_type": "code",
   "execution_count": 67,
   "metadata": {
    "scrolled": true
   },
   "outputs": [],
   "source": [
    "PARTS=[earlyPART, midPART ,latePART]\n",
    "for item in PARTS:\n",
    "    for key, value in item.items():\n",
    "        item[key]=(color_dic[value])\n",
    "#     print(item)"
   ]
  },
  {
   "cell_type": "code",
   "execution_count": 68,
   "metadata": {},
   "outputs": [],
   "source": [
    "for key, value in earlyPART.items():\n",
    "    earlyH.node(data=True)[key].update({'color':value})\n"
   ]
  },
  {
   "cell_type": "code",
   "execution_count": 69,
   "metadata": {
    "scrolled": true
   },
   "outputs": [
    {
     "data": {
      "text/plain": [
       "dict_items([(0, 'blue'), (1, 'blue'), (2, 'blue'), (3, 'blue'), (4, 'blue'), (5, 'blue'), (6, 'blue'), (7, 'blue'), (8, 'blue'), (9, 'blue'), (10, 'blue'), (11, 'blue'), (12, 'blue'), (13, 'blue'), (14, 'blue'), (15, 'blue'), (16, 'blue'), (17, 'blue'), (18, 'blue'), (19, 'blue'), (20, 'blue'), (21, 'blue'), (22, 'blue'), (23, 'blue'), (24, 'blue'), (25, 'blue'), (26, 'blue'), (27, 'blue'), (28, 'blue'), (29, 'blue'), (30, 'red'), (31, 'green'), (32, 'green'), (33, 'red'), (34, 'green'), (35, 'blue'), (36, 'green'), (37, 'blue'), (38, 'blue'), (39, 'blue'), (40, 'purple'), (41, 'blue'), (42, 'blue'), (43, 'purple'), (44, 'purple'), (45, 'purple'), (46, 'purple'), (47, 'purple'), (48, 'purple'), (49, 'green'), (50, 'green'), (51, 'green'), (52, 'red'), (53, 'red'), (54, 'red'), (55, 'green'), (56, 'red'), (57, 'red'), (58, 'red'), (59, 'green'), (60, 'green'), (61, 'red'), (62, 'yellow'), (63, 'purple'), (64, 'purple'), (65, 'yellow'), (66, 'purple'), (67, 'yellow'), (68, 'yellow'), (69, 'purple'), (70, 'purple'), (71, 'red'), (72, 'yellow'), (73, 'yellow'), (74, 'yellow'), (75, 'yellow'), (76, 'yellow'), (77, 'yellow'), (78, 'yellow'), (79, 'yellow'), (80, 'blue'), (81, 'yellow'), (82, 'yellow'), (83, 'purple'), (84, 'purple'), (85, 'purple'), (86, 'purple'), (87, 'purple'), (88, 'purple'), (89, 'purple'), (90, 'purple'), (91, 'purple'), (92, 'purple'), (93, 'purple'), (94, 'purple'), (95, 'purple'), (96, 'purple'), (97, 'purple'), (98, 'purple'), (99, 'purple'), (100, 'purple'), (101, 'purple'), (102, 'green'), (103, 'red'), (104, 'red'), (105, 'green'), (106, 'red'), (107, 'purple'), (108, 'purple'), (109, 'green'), (110, 'yellow'), (111, 'yellow'), (112, 'yellow'), (113, 'yellow'), (114, 'green'), (115, 'purple'), (116, 'yellow'), (117, 'red'), (118, 'purple'), (119, 'purple'), (120, 'pink'), (121, 'yellow'), (122, 'yellow'), (123, 'blue'), (124, 'pink'), (125, 'yellow'), (126, 'yellow'), (127, 'yellow'), (128, 'yellow'), (129, 'yellow'), (130, 'yellow'), (131, 'yellow'), (132, 'yellow'), (133, 'yellow'), (134, 'yellow'), (135, 'yellow'), (136, 'yellow'), (137, 'yellow'), (138, 'yellow'), (139, 'yellow'), (140, 'yellow'), (141, 'yellow'), (142, 'yellow'), (143, 'yellow'), (144, 'yellow'), (145, 'yellow'), (146, 'yellow'), (147, 'yellow'), (148, 'yellow'), (149, 'yellow'), (150, 'yellow'), (151, 'yellow'), (152, 'yellow'), (153, 'yellow'), (154, 'yellow'), (155, 'yellow'), (156, 'blue'), (157, 'purple'), (158, 'purple'), (159, 'red'), (160, 'blue'), (161, 'yellow'), (162, 'purple'), (163, 'purple'), (164, 'purple'), (165, 'purple'), (166, 'purple'), (167, 'purple'), (168, 'blue'), (169, 'blue'), (170, 'blue'), (171, 'blue'), (172, 'yellow'), (173, 'blue'), (174, 'purple'), (175, 'purple'), (176, 'purple'), (177, 'blue'), (178, 'purple'), (179, 'purple'), (180, 'purple'), (181, 'blue'), (182, 'green'), (183, 'blue'), (184, 'purple'), (185, 'purple'), (186, 'purple'), (187, 'purple'), (188, 'purple'), (189, 'purple'), (190, 'purple'), (191, 'purple'), (192, 'purple'), (193, 'purple'), (194, 'purple'), (195, 'purple'), (196, 'purple'), (197, 'purple'), (198, 'purple'), (199, 'green'), (200, 'green'), (201, 'green'), (202, 'green'), (203, 'green'), (204, 'purple'), (205, 'purple'), (206, 'green'), (207, 'purple'), (208, 'purple'), (209, 'purple'), (210, 'purple'), (211, 'purple'), (212, 'blue'), (213, 'green'), (214, 'red'), (215, 'red'), (216, 'green'), (217, 'green'), (218, 'green'), (219, 'purple'), (220, 'purple'), (221, 'blue'), (222, 'yellow'), (223, 'yellow'), (224, 'yellow'), (225, 'blue'), (226, 'blue'), (227, 'yellow'), (228, 'blue'), (229, 'yellow'), (230, 'blue'), (231, 'blue'), (232, 'yellow'), (233, 'yellow'), (234, 'yellow'), (235, 'yellow'), (236, 'yellow'), (237, 'yellow'), (238, 'purple'), (239, 'red'), (240, 'purple'), (241, 'green'), (242, 'green'), (243, 'green'), (244, 'green'), (245, 'green'), (246, 'green'), (247, 'purple'), (248, 'red'), (249, 'purple'), (250, 'purple'), (251, 'yellow'), (252, 'yellow'), (253, 'yellow'), (254, 'purple'), (255, 'yellow'), (256, 'yellow'), (257, 'yellow'), (258, 'green'), (259, 'green'), (260, 'green'), (261, 'green'), (262, 'yellow'), (263, 'yellow')])"
      ]
     },
     "execution_count": 69,
     "metadata": {},
     "output_type": "execute_result"
    }
   ],
   "source": [
    "earlyPART.items()"
   ]
  },
  {
   "cell_type": "code",
   "execution_count": 70,
   "metadata": {},
   "outputs": [
    {
     "data": {
      "text/plain": [
       "NodeDataView({0: {'X': -7, 'Y': -52, 'Z': 61, 'ID': 'Precuneus', 'color': 'blue'}, 1: {'X': -14, 'Y': -18, 'Z': 40, 'ID': 'Cingulate Gyrus', 'color': 'blue'}, 2: {'X': 0, 'Y': -15, 'Z': 47, 'ID': 'Paracentral Lobule', 'color': 'blue'}, 3: {'X': 10, 'Y': -2, 'Z': 45, 'ID': 'Cingulate Gyrus', 'color': 'blue'}, 4: {'X': -7, 'Y': -21, 'Z': 65, 'ID': 'Medial Frontal Gyrus', 'color': 'blue'}, 5: {'X': -7, 'Y': -33, 'Z': 72, 'ID': 'Postcentral Gyrus', 'color': 'blue'}, 6: {'X': 13, 'Y': -33, 'Z': 75, 'ID': 'Postcentral Gyrus', 'color': 'blue'}, 7: {'X': -54, 'Y': -23, 'Z': 43, 'ID': 'Postcentral Gyrus', 'color': 'blue'}, 8: {'X': 29, 'Y': -17, 'Z': 71, 'ID': 'Precentral Gyrus', 'color': 'blue'}, 9: {'X': 10, 'Y': -46, 'Z': 73, 'ID': 'Postcentral Gyrus', 'color': 'blue'}, 10: {'X': -23, 'Y': -30, 'Z': 72, 'ID': 'Postcentral Gyrus', 'color': 'blue'}, 11: {'X': -40, 'Y': -19, 'Z': 54, 'ID': 'Postcentral Gyrus', 'color': 'blue'}, 12: {'X': 29, 'Y': -39, 'Z': 59, 'ID': 'Postcentral Gyrus', 'color': 'blue'}, 13: {'X': 50, 'Y': -20, 'Z': 42, 'ID': 'Postcentral Gyrus', 'color': 'blue'}, 14: {'X': -38, 'Y': -27, 'Z': 69, 'ID': 'undefined', 'color': 'blue'}, 15: {'X': 20, 'Y': -29, 'Z': 60, 'ID': 'Precentral Gyrus', 'color': 'blue'}, 16: {'X': 44, 'Y': -8, 'Z': 57, 'ID': 'Precentral Gyrus', 'color': 'blue'}, 17: {'X': -29, 'Y': -43, 'Z': 61, 'ID': 'Postcentral Gyrus', 'color': 'blue'}, 18: {'X': 10, 'Y': -17, 'Z': 74, 'ID': 'Superior Frontal Gyrus', 'color': 'blue'}, 19: {'X': 22, 'Y': -42, 'Z': 69, 'ID': 'Postcentral Gyrus', 'color': 'blue'}, 20: {'X': -45, 'Y': -32, 'Z': 47, 'ID': 'Inferior Parietal Lobule', 'color': 'blue'}, 21: {'X': -21, 'Y': -31, 'Z': 61, 'ID': 'Postcentral Gyrus', 'color': 'blue'}, 22: {'X': -13, 'Y': -17, 'Z': 75, 'ID': 'Precentral Gyrus', 'color': 'blue'}, 23: {'X': 42, 'Y': -20, 'Z': 55, 'ID': 'Postcentral Gyrus', 'color': 'blue'}, 24: {'X': -38, 'Y': -15, 'Z': 69, 'ID': 'undefined', 'color': 'blue'}, 25: {'X': -16, 'Y': -46, 'Z': 73, 'ID': 'Postcentral Gyrus', 'color': 'blue'}, 26: {'X': 2, 'Y': -28, 'Z': 60, 'ID': 'Medial Frontal Gyrus', 'color': 'blue'}, 27: {'X': 3, 'Y': -17, 'Z': 58, 'ID': 'Medial Frontal Gyrus', 'color': 'blue'}, 28: {'X': 38, 'Y': -17, 'Z': 45, 'ID': 'Precentral Gyrus', 'color': 'blue'}, 29: {'X': 47, 'Y': -30, 'Z': 49, 'ID': 'Postcentral Gyrus', 'color': 'blue'}, 30: {'X': -49, 'Y': -11, 'Z': 35, 'ID': 'Precentral Gyrus', 'color': 'red'}, 31: {'X': 36, 'Y': -9, 'Z': 14, 'ID': 'Insula', 'color': 'green'}, 32: {'X': 51, 'Y': -6, 'Z': 32, 'ID': 'Precentral Gyrus', 'color': 'green'}, 33: {'X': -53, 'Y': -10, 'Z': 24, 'ID': 'Precentral Gyrus', 'color': 'red'}, 34: {'X': 66, 'Y': -8, 'Z': 25, 'ID': 'Precentral Gyrus', 'color': 'green'}, 35: {'X': -3, 'Y': 2, 'Z': 53, 'ID': 'Medial Frontal Gyrus', 'color': 'blue'}, 36: {'X': 54, 'Y': -28, 'Z': 34, 'ID': 'Inferior Parietal Lobule', 'color': 'green'}, 37: {'X': 19, 'Y': -8, 'Z': 64, 'ID': 'Middle Frontal Gyrus', 'color': 'blue'}, 38: {'X': -16, 'Y': -5, 'Z': 71, 'ID': 'Superior Frontal Gyrus', 'color': 'blue'}, 39: {'X': -10, 'Y': -2, 'Z': 42, 'ID': 'Cingulate Gyrus', 'color': 'blue'}, 40: {'X': 37, 'Y': 1, 'Z': -4, 'ID': 'Insula', 'color': 'purple'}, 41: {'X': 13, 'Y': -1, 'Z': 70, 'ID': 'Superior Frontal Gyrus', 'color': 'blue'}, 42: {'X': 7, 'Y': 8, 'Z': 51, 'ID': 'Medial Frontal Gyrus', 'color': 'blue'}, 43: {'X': -45, 'Y': 0, 'Z': 9, 'ID': 'Precentral Gyrus', 'color': 'purple'}, 44: {'X': 49, 'Y': 8, 'Z': -1, 'ID': 'Superior Temporal Gyrus', 'color': 'purple'}, 45: {'X': -34, 'Y': 3, 'Z': 4, 'ID': 'Claustrum', 'color': 'purple'}, 46: {'X': -51, 'Y': 8, 'Z': -2, 'ID': 'Superior Temporal Gyrus', 'color': 'purple'}, 47: {'X': -5, 'Y': 18, 'Z': 34, 'ID': 'Cingulate Gyrus', 'color': 'purple'}, 48: {'X': 36, 'Y': 10, 'Z': 1, 'ID': 'Insula', 'color': 'purple'}, 49: {'X': 32, 'Y': -26, 'Z': 13, 'ID': 'Insula', 'color': 'green'}, 50: {'X': 65, 'Y': -33, 'Z': 20, 'ID': 'Superior Temporal Gyrus', 'color': 'green'}, 51: {'X': 58, 'Y': -16, 'Z': 7, 'ID': 'Superior Temporal Gyrus', 'color': 'green'}, 52: {'X': -38, 'Y': -33, 'Z': 17, 'ID': 'Insula', 'color': 'red'}, 53: {'X': -60, 'Y': -25, 'Z': 14, 'ID': 'Superior Temporal Gyrus', 'color': 'red'}, 54: {'X': -49, 'Y': -26, 'Z': 5, 'ID': 'Superior Temporal Gyrus', 'color': 'red'}, 55: {'X': 43, 'Y': -23, 'Z': 20, 'ID': 'Insula', 'color': 'green'}, 56: {'X': -50, 'Y': -34, 'Z': 26, 'ID': 'Inferior Parietal Lobule', 'color': 'red'}, 57: {'X': -53, 'Y': -22, 'Z': 23, 'ID': 'Postcentral Gyrus', 'color': 'red'}, 58: {'X': -55, 'Y': -9, 'Z': 12, 'ID': 'Precentral Gyrus', 'color': 'red'}, 59: {'X': 56, 'Y': -5, 'Z': 13, 'ID': 'Precentral Gyrus', 'color': 'green'}, 60: {'X': 59, 'Y': -17, 'Z': 29, 'ID': 'Postcentral Gyrus', 'color': 'green'}, 61: {'X': -30, 'Y': -27, 'Z': 12, 'ID': 'Insula', 'color': 'red'}, 62: {'X': -41, 'Y': -75, 'Z': 26, 'ID': 'Middle Temporal Gyrus', 'color': 'yellow'}, 63: {'X': 6, 'Y': 67, 'Z': -4, 'ID': 'undefined', 'color': 'purple'}, 64: {'X': 8, 'Y': 48, 'Z': -15, 'ID': 'Medial Frontal Gyrus', 'color': 'purple'}, 65: {'X': -13, 'Y': -40, 'Z': 1, 'ID': 'Parahippocampa Gyrus', 'color': 'yellow'}, 66: {'X': -18, 'Y': 63, 'Z': -9, 'ID': 'Superior Frontal Gyrus', 'color': 'purple'}, 67: {'X': -46, 'Y': -61, 'Z': 21, 'ID': 'Middle Temporal Gyrus', 'color': 'yellow'}, 68: {'X': 43, 'Y': -72, 'Z': 28, 'ID': 'Middle Temporal Gyrus', 'color': 'yellow'}, 69: {'X': -44, 'Y': 12, 'Z': -34, 'ID': 'Superior Temporal Gyrus', 'color': 'purple'}, 70: {'X': 46, 'Y': 16, 'Z': -30, 'ID': 'Superior Temporal Gyrus', 'color': 'purple'}, 71: {'X': -68, 'Y': -23, 'Z': -16, 'ID': 'undefined', 'color': 'red'}, 72: {'X': -44, 'Y': -65, 'Z': 35, 'ID': 'Angular Gyrus', 'color': 'yellow'}, 73: {'X': -39, 'Y': -75, 'Z': 44, 'ID': 'undefined', 'color': 'yellow'}, 74: {'X': -7, 'Y': -55, 'Z': 27, 'ID': 'Cingulate Gyrus', 'color': 'yellow'}, 75: {'X': 6, 'Y': -59, 'Z': 35, 'ID': 'Precuneus', 'color': 'yellow'}, 76: {'X': -11, 'Y': -56, 'Z': 16, 'ID': 'Posterior Cingulate', 'color': 'yellow'}, 77: {'X': -3, 'Y': -49, 'Z': 13, 'ID': 'Posterior Cingulate', 'color': 'yellow'}, 78: {'X': 8, 'Y': -48, 'Z': 31, 'ID': 'Cingulate Gyrus', 'color': 'yellow'}, 79: {'X': 15, 'Y': -63, 'Z': 26, 'ID': 'Precuneus', 'color': 'yellow'}, 80: {'X': -2, 'Y': -37, 'Z': 44, 'ID': 'Cingulate Gyrus', 'color': 'blue'}, 81: {'X': 11, 'Y': -54, 'Z': 17, 'ID': 'Posterior Cingulate', 'color': 'yellow'}, 82: {'X': 52, 'Y': -59, 'Z': 36, 'ID': 'Angular Gyrus', 'color': 'yellow'}, 83: {'X': 23, 'Y': 33, 'Z': 48, 'ID': 'Middle Frontal Gyrus', 'color': 'purple'}, 84: {'X': -10, 'Y': 39, 'Z': 52, 'ID': 'Superior Frontal Gyrus', 'color': 'purple'}, 85: {'X': -16, 'Y': 29, 'Z': 53, 'ID': 'Superior Frontal Gyrus', 'color': 'purple'}, 86: {'X': -35, 'Y': 20, 'Z': 51, 'ID': 'Middle Frontal Gyrus', 'color': 'purple'}, 87: {'X': 22, 'Y': 39, 'Z': 39, 'ID': 'Superior Frontal Gyrus', 'color': 'purple'}, 88: {'X': 13, 'Y': 55, 'Z': 38, 'ID': 'Superior Frontal Gyrus', 'color': 'purple'}, 89: {'X': -10, 'Y': 55, 'Z': 39, 'ID': 'Superior Frontal Gyrus', 'color': 'purple'}, 90: {'X': -20, 'Y': 45, 'Z': 39, 'ID': 'Superior Frontal Gyrus', 'color': 'purple'}, 91: {'X': 6, 'Y': 54, 'Z': 16, 'ID': 'Medial Frontal Gyrus', 'color': 'purple'}, 92: {'X': 6, 'Y': 64, 'Z': 22, 'ID': 'Medial Frontal Gyrus', 'color': 'purple'}, 93: {'X': -7, 'Y': 51, 'Z': -1, 'ID': 'Medial Frontal Gyrus', 'color': 'purple'}, 94: {'X': 9, 'Y': 54, 'Z': 3, 'ID': 'Medial Frontal Gyrus', 'color': 'purple'}, 95: {'X': -3, 'Y': 44, 'Z': -9, 'ID': 'Medial Frontal Gyrus', 'color': 'purple'}, 96: {'X': 8, 'Y': 42, 'Z': -5, 'ID': 'Medial Frontal Gyrus', 'color': 'purple'}, 97: {'X': -11, 'Y': 45, 'Z': 8, 'ID': 'Medial Frontal Gyrus', 'color': 'purple'}, 98: {'X': -2, 'Y': 38, 'Z': 36, 'ID': 'Medial Frontal Gyrus', 'color': 'purple'}, 99: {'X': -3, 'Y': 42, 'Z': 16, 'ID': 'Anterior Cingulate', 'color': 'purple'}, 100: {'X': -20, 'Y': 64, 'Z': 19, 'ID': 'Superior Frontal Gyrus', 'color': 'purple'}, 101: {'X': -8, 'Y': 48, 'Z': 23, 'ID': 'Medial Frontal Gyrus', 'color': 'purple'}, 102: {'X': 65, 'Y': -12, 'Z': -19, 'ID': 'Inferior Temporal Gyrus', 'color': 'green'}, 103: {'X': -56, 'Y': -13, 'Z': -10, 'ID': 'Middle Temporal Gyrus', 'color': 'red'}, 104: {'X': -58, 'Y': -30, 'Z': -4, 'ID': 'Middle Temporal Gyrus', 'color': 'red'}, 105: {'X': 65, 'Y': -31, 'Z': -9, 'ID': 'Middle Temporal Gyrus', 'color': 'green'}, 106: {'X': -68, 'Y': -41, 'Z': -5, 'ID': 'Middle Temporal Gyrus', 'color': 'red'}, 107: {'X': 13, 'Y': 30, 'Z': 59, 'ID': 'Superior Frontal Gyrus', 'color': 'purple'}, 108: {'X': 12, 'Y': 36, 'Z': 20, 'ID': 'Anterior Cingulate', 'color': 'purple'}, 109: {'X': 52, 'Y': -2, 'Z': -16, 'ID': 'Middle Temporal Gyrus', 'color': 'green'}, 110: {'X': -26, 'Y': -40, 'Z': -8, 'ID': 'Parahippocampa Gyrus', 'color': 'yellow'}, 111: {'X': 27, 'Y': -37, 'Z': -13, 'ID': 'Parahippocampa Gyrus', 'color': 'yellow'}, 112: {'X': -34, 'Y': -38, 'Z': -16, 'ID': 'Fusiform Gyrus', 'color': 'yellow'}, 113: {'X': 28, 'Y': -77, 'Z': -32, 'ID': 'Uvula', 'color': 'yellow'}, 114: {'X': 52, 'Y': 7, 'Z': -30, 'ID': 'Middle Temporal Gyrus', 'color': 'green'}, 115: {'X': -53, 'Y': 3, 'Z': -27, 'ID': 'Middle Temporal Gyrus', 'color': 'purple'}, 116: {'X': 47, 'Y': -50, 'Z': 29, 'ID': 'Supramarginal Gyrus', 'color': 'yellow'}, 117: {'X': -49, 'Y': -42, 'Z': 1, 'ID': 'Middle Temporal Gyrus', 'color': 'red'}, 118: {'X': -46, 'Y': 31, 'Z': -13, 'ID': 'Inferior Frontal Gyrus', 'color': 'purple'}, 119: {'X': 49, 'Y': 35, 'Z': -12, 'ID': 'Inferior Frontal Gyrus', 'color': 'purple'}, 120: {'X': -2, 'Y': -35, 'Z': 31, 'ID': 'Cingulate Gyrus', 'color': 'pink'}, 121: {'X': -7, 'Y': -71, 'Z': 42, 'ID': 'Precuneus', 'color': 'yellow'}, 122: {'X': 11, 'Y': -66, 'Z': 42, 'ID': 'Precuneus', 'color': 'yellow'}, 123: {'X': 4, 'Y': -48, 'Z': 51, 'ID': 'Precuneus', 'color': 'blue'}, 124: {'X': 2, 'Y': -24, 'Z': 30, 'ID': 'Cingulate Gyrus', 'color': 'pink'}, 125: {'X': 18, 'Y': -47, 'Z': -10, 'ID': 'Parahippocampa Gyrus', 'color': 'yellow'}, 126: {'X': 40, 'Y': -72, 'Z': 14, 'ID': 'Middle Temporal Gyrus', 'color': 'yellow'}, 127: {'X': 8, 'Y': -72, 'Z': 11, 'ID': 'Cuneus', 'color': 'yellow'}, 128: {'X': -8, 'Y': -81, 'Z': 7, 'ID': 'Cuneus', 'color': 'yellow'}, 129: {'X': -28, 'Y': -79, 'Z': 19, 'ID': 'Sub-Gyral', 'color': 'yellow'}, 130: {'X': 20, 'Y': -66, 'Z': 2, 'ID': 'Lingual Gyrus', 'color': 'yellow'}, 131: {'X': -24, 'Y': -91, 'Z': 19, 'ID': 'Cuneus', 'color': 'yellow'}, 132: {'X': 27, 'Y': -59, 'Z': -9, 'ID': 'Lingual Gyrus', 'color': 'yellow'}, 133: {'X': -15, 'Y': -72, 'Z': -8, 'ID': 'Lingual Gyrus', 'color': 'yellow'}, 134: {'X': -18, 'Y': -68, 'Z': 5, 'ID': 'Cuneus', 'color': 'yellow'}, 135: {'X': 43, 'Y': -78, 'Z': -12, 'ID': 'Inferior Occipital Gyrus', 'color': 'yellow'}, 136: {'X': -47, 'Y': -76, 'Z': -10, 'ID': 'Middle Occipital Gyrus', 'color': 'yellow'}, 137: {'X': -14, 'Y': -91, 'Z': 31, 'ID': 'Cuneus', 'color': 'yellow'}, 138: {'X': 15, 'Y': -87, 'Z': 37, 'ID': 'Precuneus', 'color': 'yellow'}, 139: {'X': 29, 'Y': -77, 'Z': 25, 'ID': 'Sub-Gyral', 'color': 'yellow'}, 140: {'X': 20, 'Y': -86, 'Z': -2, 'ID': 'Lingual Gyrus', 'color': 'yellow'}, 141: {'X': 15, 'Y': -77, 'Z': 31, 'ID': 'Cuneus', 'color': 'yellow'}, 142: {'X': -16, 'Y': -52, 'Z': -1, 'ID': 'Lingual Gyrus', 'color': 'yellow'}, 143: {'X': 42, 'Y': -66, 'Z': -8, 'ID': 'Middle Occipital Gyrus', 'color': 'yellow'}, 144: {'X': 24, 'Y': -87, 'Z': 24, 'ID': 'Cuneus', 'color': 'yellow'}, 145: {'X': 6, 'Y': -72, 'Z': 24, 'ID': 'Precuneus', 'color': 'yellow'}, 146: {'X': -42, 'Y': -74, 'Z': 0, 'ID': 'Middle Occipital Gyrus', 'color': 'yellow'}, 147: {'X': 26, 'Y': -79, 'Z': -16, 'ID': 'Lingual Gyrus', 'color': 'yellow'}, 148: {'X': -16, 'Y': -77, 'Z': 34, 'ID': 'Precuneus', 'color': 'yellow'}, 149: {'X': -3, 'Y': -81, 'Z': 21, 'ID': 'Cuneus', 'color': 'yellow'}, 150: {'X': -40, 'Y': -88, 'Z': -6, 'ID': 'Inferior Occipital Gyrus', 'color': 'yellow'}, 151: {'X': 37, 'Y': -84, 'Z': 13, 'ID': 'Middle Occipital Gyrus', 'color': 'yellow'}, 152: {'X': 6, 'Y': -81, 'Z': 6, 'ID': 'Cuneus', 'color': 'yellow'}, 153: {'X': -26, 'Y': -90, 'Z': 3, 'ID': 'Middle Occipital Gyrus', 'color': 'yellow'}, 154: {'X': -33, 'Y': -79, 'Z': -13, 'ID': 'Middle Occipital Gyrus', 'color': 'yellow'}, 155: {'X': 37, 'Y': -81, 'Z': 1, 'ID': 'Middle Occipital Gyrus', 'color': 'yellow'}, 156: {'X': -44, 'Y': 2, 'Z': 46, 'ID': 'Middle Frontal Gyrus', 'color': 'blue'}, 157: {'X': 48, 'Y': 25, 'Z': 27, 'ID': 'Middle Frontal Gyrus', 'color': 'purple'}, 158: {'X': -47, 'Y': 11, 'Z': 23, 'ID': 'Inferior Frontal Gyrus', 'color': 'purple'}, 159: {'X': -53, 'Y': -49, 'Z': 43, 'ID': 'Inferior Parietal Lobule', 'color': 'red'}, 160: {'X': -23, 'Y': 11, 'Z': 64, 'ID': 'Superior Frontal Gyrus', 'color': 'blue'}, 161: {'X': 58, 'Y': -53, 'Z': -14, 'ID': 'Middle Temporal Gyrus', 'color': 'yellow'}, 162: {'X': 24, 'Y': 45, 'Z': -15, 'ID': 'Superior Frontal Gyrus', 'color': 'purple'}, 163: {'X': 34, 'Y': 54, 'Z': -13, 'ID': 'Middle Frontal Gyrus', 'color': 'purple'}, 164: {'X': 47, 'Y': 10, 'Z': 33, 'ID': 'Middle Frontal Gyrus', 'color': 'purple'}, 165: {'X': -41, 'Y': 6, 'Z': 33, 'ID': 'Inferior Frontal Gyrus', 'color': 'purple'}, 166: {'X': -42, 'Y': 38, 'Z': 21, 'ID': 'Middle Frontal Gyrus', 'color': 'purple'}, 167: {'X': 38, 'Y': 43, 'Z': 15, 'ID': 'Middle Frontal Gyrus', 'color': 'purple'}, 168: {'X': 49, 'Y': -42, 'Z': 45, 'ID': 'Inferior Parietal Lobule', 'color': 'blue'}, 169: {'X': -28, 'Y': -58, 'Z': 48, 'ID': 'Superior Parietal Lobule', 'color': 'blue'}, 170: {'X': 44, 'Y': -53, 'Z': 47, 'ID': 'Inferior Parietal Lobule', 'color': 'blue'}, 171: {'X': 32, 'Y': 14, 'Z': 56, 'ID': 'Superior Frontal Gyrus', 'color': 'blue'}, 172: {'X': 37, 'Y': -65, 'Z': 40, 'ID': 'Inferior Parietal Lobule', 'color': 'yellow'}, 173: {'X': -42, 'Y': -55, 'Z': 45, 'ID': 'Inferior Parietal Lobule', 'color': 'blue'}, 174: {'X': 40, 'Y': 18, 'Z': 40, 'ID': 'Middle Frontal Gyrus', 'color': 'purple'}, 175: {'X': -34, 'Y': 55, 'Z': 4, 'ID': 'Middle Frontal Gyrus', 'color': 'purple'}, 176: {'X': -42, 'Y': 45, 'Z': -2, 'ID': 'Middle Frontal Gyrus', 'color': 'purple'}, 177: {'X': 33, 'Y': -53, 'Z': 44, 'ID': 'Inferior Parietal Lobule', 'color': 'blue'}, 178: {'X': 43, 'Y': 49, 'Z': -2, 'ID': 'Middle Frontal Gyrus', 'color': 'purple'}, 179: {'X': -42, 'Y': 25, 'Z': 30, 'ID': 'Middle Frontal Gyrus', 'color': 'purple'}, 180: {'X': -3, 'Y': 26, 'Z': 44, 'ID': 'Medial Frontal Gyrus', 'color': 'purple'}, 181: {'X': 11, 'Y': -39, 'Z': 50, 'ID': 'Paracentral Lobule', 'color': 'blue'}, 182: {'X': 55, 'Y': -45, 'Z': 37, 'ID': 'Supramarginal Gyrus', 'color': 'green'}, 183: {'X': 42, 'Y': 0, 'Z': 47, 'ID': 'Middle Frontal Gyrus', 'color': 'blue'}, 184: {'X': 31, 'Y': 33, 'Z': 26, 'ID': 'Sub-Gyral', 'color': 'purple'}, 185: {'X': 48, 'Y': 22, 'Z': 10, 'ID': 'Inferior Frontal Gyrus', 'color': 'purple'}, 186: {'X': -35, 'Y': 20, 'Z': 0, 'ID': 'Extra-Nuclear', 'color': 'purple'}, 187: {'X': 36, 'Y': 22, 'Z': 3, 'ID': 'Insula', 'color': 'purple'}, 188: {'X': 37, 'Y': 32, 'Z': -2, 'ID': 'Inferior Frontal Gyrus', 'color': 'purple'}, 189: {'X': 34, 'Y': 16, 'Z': -8, 'ID': 'Extra-Nuclear', 'color': 'purple'}, 190: {'X': -11, 'Y': 26, 'Z': 25, 'ID': 'Anterior Cingulate', 'color': 'purple'}, 191: {'X': -1, 'Y': 15, 'Z': 44, 'ID': 'Cingulate Gyrus', 'color': 'purple'}, 192: {'X': -28, 'Y': 52, 'Z': 21, 'ID': 'Middle Frontal Gyrus', 'color': 'purple'}, 193: {'X': 0, 'Y': 30, 'Z': 27, 'ID': 'undefined', 'color': 'purple'}, 194: {'X': 5, 'Y': 23, 'Z': 37, 'ID': 'Cingulate Gyrus', 'color': 'purple'}, 195: {'X': 10, 'Y': 22, 'Z': 27, 'ID': 'Anterior Cingulate', 'color': 'purple'}, 196: {'X': 31, 'Y': 56, 'Z': 14, 'ID': 'Middle Frontal Gyrus', 'color': 'purple'}, 197: {'X': 26, 'Y': 50, 'Z': 27, 'ID': 'Superior Frontal Gyrus', 'color': 'purple'}, 198: {'X': -39, 'Y': 51, 'Z': 17, 'ID': 'Superior Frontal Gyrus', 'color': 'purple'}, 199: {'X': 6, 'Y': -24, 'Z': 0, 'ID': 'Extra-Nuclear', 'color': 'green'}, 200: {'X': -2, 'Y': -13, 'Z': 12, 'ID': 'Extra-Nuclear', 'color': 'green'}, 201: {'X': -10, 'Y': -18, 'Z': 7, 'ID': 'Thalamus', 'color': 'green'}, 202: {'X': 12, 'Y': -17, 'Z': 8, 'ID': 'Thalamus', 'color': 'green'}, 203: {'X': -5, 'Y': -28, 'Z': -4, 'ID': 'undefined', 'color': 'green'}, 204: {'X': -22, 'Y': 7, 'Z': -5, 'ID': 'Lentiform Nucleus', 'color': 'purple'}, 205: {'X': -15, 'Y': 4, 'Z': 8, 'ID': 'Lentiform Nucleus', 'color': 'purple'}, 206: {'X': 31, 'Y': -14, 'Z': 2, 'ID': 'Extra-Nuclear', 'color': 'green'}, 207: {'X': 23, 'Y': 10, 'Z': 1, 'ID': 'Lentiform Nucleus', 'color': 'purple'}, 208: {'X': 29, 'Y': 1, 'Z': 4, 'ID': 'Extra-Nuclear', 'color': 'purple'}, 209: {'X': -31, 'Y': -11, 'Z': 0, 'ID': 'Extra-Nuclear', 'color': 'purple'}, 210: {'X': 15, 'Y': 5, 'Z': 7, 'ID': 'Extra-Nuclear', 'color': 'purple'}, 211: {'X': 9, 'Y': -4, 'Z': 6, 'ID': 'Thalamus', 'color': 'purple'}, 212: {'X': -10, 'Y': 11, 'Z': 67, 'ID': 'Superior Frontal Gyrus', 'color': 'blue'}, 213: {'X': 54, 'Y': -43, 'Z': 22, 'ID': 'Inferior Parietal Lobule', 'color': 'green'}, 214: {'X': -56, 'Y': -50, 'Z': 10, 'ID': 'Superior Temporal Gyrus', 'color': 'red'}, 215: {'X': -55, 'Y': -40, 'Z': 14, 'ID': 'Superior Temporal Gyrus', 'color': 'red'}, 216: {'X': 52, 'Y': -33, 'Z': 8, 'ID': 'Superior Temporal Gyrus', 'color': 'green'}, 217: {'X': 51, 'Y': -29, 'Z': -4, 'ID': 'Middle Temporal Gyrus', 'color': 'green'}, 218: {'X': 56, 'Y': -46, 'Z': 11, 'ID': 'Superior Temporal Gyrus', 'color': 'green'}, 219: {'X': 53, 'Y': 33, 'Z': 1, 'ID': 'Inferior Frontal Gyrus', 'color': 'purple'}, 220: {'X': -49, 'Y': 25, 'Z': -1, 'ID': 'Inferior Frontal Gyrus', 'color': 'purple'}, 221: {'X': 10, 'Y': -62, 'Z': 61, 'ID': 'Precuneus', 'color': 'blue'}, 222: {'X': -52, 'Y': -63, 'Z': 5, 'ID': 'Middle Temporal Gyrus', 'color': 'yellow'}, 223: {'X': 22, 'Y': -65, 'Z': 48, 'ID': 'Precuneus', 'color': 'yellow'}, 224: {'X': 46, 'Y': -59, 'Z': 4, 'ID': 'Middle Temporal Gyrus', 'color': 'yellow'}, 225: {'X': 25, 'Y': -58, 'Z': 60, 'ID': 'Superior Parietal Lobule', 'color': 'blue'}, 226: {'X': -33, 'Y': -46, 'Z': 47, 'ID': 'Sub-Gyral', 'color': 'blue'}, 227: {'X': -27, 'Y': -71, 'Z': 37, 'ID': 'Precuneus', 'color': 'yellow'}, 228: {'X': -32, 'Y': -1, 'Z': 54, 'ID': 'Middle Frontal Gyrus', 'color': 'blue'}, 229: {'X': -42, 'Y': -60, 'Z': -9, 'ID': 'Sub-Gyral', 'color': 'yellow'}, 230: {'X': -17, 'Y': -59, 'Z': 64, 'ID': 'Superior Parietal Lobule', 'color': 'blue'}, 231: {'X': 29, 'Y': -5, 'Z': 54, 'ID': 'Middle Frontal Gyrus', 'color': 'blue'}, 232: {'X': -16, 'Y': -65, 'Z': -20, 'ID': 'Declive', 'color': 'yellow'}, 233: {'X': -32, 'Y': -55, 'Z': -25, 'ID': 'Culmen', 'color': 'yellow'}, 234: {'X': 22, 'Y': -58, 'Z': -23, 'ID': 'Declive', 'color': 'yellow'}, 235: {'X': 1, 'Y': -62, 'Z': -18, 'ID': 'Declive', 'color': 'yellow'}, 236: {'X': -25, 'Y': -98, 'Z': -12, 'ID': 'Lingual Gyrus', 'color': 'yellow'}, 237: {'X': 27, 'Y': -97, 'Z': -13, 'ID': 'Inferior Occipital Gyrus', 'color': 'yellow'}, 238: {'X': 24, 'Y': 32, 'Z': -18, 'ID': 'Middle Frontal Gyrus', 'color': 'purple'}, 239: {'X': -56, 'Y': -45, 'Z': -24, 'ID': 'Inferior Temporal Gyrus', 'color': 'red'}, 240: {'X': 8, 'Y': 41, 'Z': -24, 'ID': 'Sub-Gyral', 'color': 'purple'}, 241: {'X': -21, 'Y': -22, 'Z': -20, 'ID': 'Parahippocampa Gyrus', 'color': 'green'}, 242: {'X': 17, 'Y': -28, 'Z': -17, 'ID': 'Culmen', 'color': 'green'}, 243: {'X': -37, 'Y': -29, 'Z': -26, 'ID': 'Parahippocampa Gyrus', 'color': 'green'}, 244: {'X': 65, 'Y': -24, 'Z': -19, 'ID': 'undefined', 'color': 'green'}, 245: {'X': 52, 'Y': -34, 'Z': -27, 'ID': 'Fusiform Gyrus', 'color': 'green'}, 246: {'X': 55, 'Y': -31, 'Z': -17, 'ID': 'Middle Temporal Gyrus', 'color': 'green'}, 247: {'X': 34, 'Y': 38, 'Z': -12, 'ID': 'Middle Frontal Gyrus', 'color': 'purple'}, 248: {'X': -58, 'Y': -26, 'Z': -15, 'ID': 'Middle Temporal Gyrus', 'color': 'red'}, 249: {'X': 27, 'Y': 16, 'Z': -17, 'ID': 'Inferior Frontal Gyrus', 'color': 'purple'}, 250: {'X': -31, 'Y': 19, 'Z': -19, 'ID': 'Inferior Frontal Gyrus', 'color': 'purple'}, 251: {'X': 8, 'Y': -91, 'Z': -7, 'ID': 'Lingual Gyrus', 'color': 'yellow'}, 252: {'X': 17, 'Y': -91, 'Z': -14, 'ID': 'Inferior Occipital Gyrus', 'color': 'yellow'}, 253: {'X': -12, 'Y': -95, 'Z': -13, 'ID': 'Lingual Gyrus', 'color': 'yellow'}, 254: {'X': -21, 'Y': 41, 'Z': -20, 'ID': 'Superior Frontal Gyrus', 'color': 'purple'}, 255: {'X': -18, 'Y': -76, 'Z': -24, 'ID': 'Declive', 'color': 'yellow'}, 256: {'X': 17, 'Y': -80, 'Z': -34, 'ID': 'Uvula', 'color': 'yellow'}, 257: {'X': 35, 'Y': -67, 'Z': -34, 'ID': 'Tuber', 'color': 'yellow'}, 258: {'X': 33, 'Y': -12, 'Z': -34, 'ID': 'Uncus', 'color': 'green'}, 259: {'X': -31, 'Y': -10, 'Z': -36, 'ID': 'Uncus', 'color': 'green'}, 260: {'X': 49, 'Y': -3, 'Z': -38, 'ID': 'Inferior Temporal Gyrus', 'color': 'green'}, 261: {'X': -50, 'Y': -7, 'Z': -39, 'ID': 'Inferior Temporal Gyrus', 'color': 'green'}, 262: {'X': -47, 'Y': -51, 'Z': -21, 'ID': 'Fusiform Gyrus', 'color': 'yellow'}, 263: {'X': 46, 'Y': -47, 'Z': -17, 'ID': 'Fusiform Gyrus', 'color': 'yellow'}})"
      ]
     },
     "execution_count": 70,
     "metadata": {},
     "output_type": "execute_result"
    }
   ],
   "source": [
    "earlyH.nodes(data=True)"
   ]
  },
  {
   "cell_type": "code",
   "execution_count": 71,
   "metadata": {
    "scrolled": true
   },
   "outputs": [
    {
     "name": "stdout",
     "output_type": "stream",
     "text": [
      "0\n",
      "1\n",
      "2\n",
      "3\n",
      "4\n",
      "5\n",
      "6\n",
      "7\n",
      "8\n",
      "9\n",
      "10\n",
      "11\n",
      "12\n",
      "13\n",
      "14\n",
      "15\n",
      "16\n",
      "17\n",
      "18\n",
      "19\n",
      "20\n",
      "21\n",
      "22\n",
      "23\n",
      "24\n",
      "25\n",
      "26\n",
      "27\n",
      "28\n",
      "29\n",
      "35\n",
      "36\n",
      "37\n",
      "38\n",
      "39\n",
      "41\n",
      "42\n",
      "80\n",
      "123\n",
      "156\n",
      "159\n",
      "160\n",
      "168\n",
      "169\n",
      "170\n",
      "171\n",
      "173\n",
      "177\n",
      "181\n",
      "183\n",
      "212\n",
      "221\n",
      "223\n",
      "225\n",
      "226\n",
      "228\n",
      "230\n",
      "231\n"
     ]
    }
   ],
   "source": [
    "blue=[]\n",
    "for node in noH.nodes(data=True):\n",
    "    if node[1]['color']=='blue':\n",
    "        print(node[0])\n",
    "        blue.append(node[0])\n",
    "#         pdb.set_trace()"
   ]
  },
  {
   "cell_type": "code",
   "execution_count": 72,
   "metadata": {
    "scrolled": true
   },
   "outputs": [
    {
     "name": "stdout",
     "output_type": "stream",
     "text": [
      "0\n",
      "62\n",
      "67\n",
      "68\n",
      "72\n",
      "73\n",
      "74\n",
      "75\n",
      "76\n",
      "77\n",
      "78\n",
      "79\n",
      "81\n",
      "82\n",
      "116\n",
      "120\n",
      "121\n",
      "122\n",
      "123\n",
      "126\n",
      "129\n",
      "137\n",
      "138\n",
      "139\n",
      "141\n",
      "144\n",
      "145\n",
      "148\n",
      "149\n",
      "159\n",
      "169\n",
      "170\n",
      "172\n",
      "173\n",
      "177\n",
      "182\n",
      "221\n",
      "223\n",
      "225\n",
      "226\n",
      "227\n",
      "230\n"
     ]
    }
   ],
   "source": [
    "blue_ob=[]\n",
    "for node in obH.nodes(data=True):\n",
    "    if node[1]['color']=='blue':\n",
    "        print(node[0])\n",
    "        blue_ob.append(node[0])\n",
    "#         pdb.set_trace()"
   ]
  },
  {
   "cell_type": "markdown",
   "metadata": {},
   "source": [
    "### Visualize differences"
   ]
  },
  {
   "cell_type": "code",
   "execution_count": 73,
   "metadata": {},
   "outputs": [
    {
     "name": "stderr",
     "output_type": "stream",
     "text": [
      "WARNING: QCoreApplication::exec: The event loop is already running\n"
     ]
    }
   ],
   "source": [
    " G = nx.karate_club_graph()\n",
    "res = [0,1,2,3,4,5, 'parrot'] #I've added 'parrot', a node that's not in G\n",
    "                              #just to demonstrate that G.subgraph is okay\n",
    "                              #with nodes not in G.    \n",
    "pos = nx.spring_layout(G)  #setting the positions with respect to G, not k.\n",
    "k = G.subgraph(res)  \n",
    "\n",
    "plt.figure()\n",
    "nx.draw_networkx(k, pos=pos)\n",
    "\n",
    "othersubgraph = G.subgraph(range(6,G.order()))\n",
    "nx.draw_networkx(othersubgraph, pos=pos, node_color = 'b')\n",
    "plt.show()"
   ]
  },
  {
   "cell_type": "code",
   "execution_count": 74,
   "metadata": {},
   "outputs": [
    {
     "name": "stderr",
     "output_type": "stream",
     "text": [
      "WARNING: QCoreApplication::exec: The event loop is already running\n"
     ]
    }
   ],
   "source": [
    "# G = nx.karate_club_graph()\n",
    "# res = [0,1,2,3,4,5, 'parrot'] #I've added 'parrot', a node that's not in G\n",
    "                              #just to demonstrate that G.subgraph is okay\n",
    "                              #with nodes not in G.    \n",
    "pos = nx.spring_layout(noG)  #setting the positions with respect to G, not k.\n",
    "subNo = noG.subgraph(blue)  \n",
    "\n",
    "plt.figure()\n",
    "nx.draw_networkx(subNo, pos=pos, node_color='b')\n",
    "\n",
    "# othersubgraph = noG.subgraph(range(50,noG.order()))\n",
    "# nx.draw_networkx(othersubgraph, pos=pos, node_color = 'g')\n",
    "plt.show()"
   ]
  },
  {
   "cell_type": "code",
   "execution_count": 75,
   "metadata": {},
   "outputs": [
    {
     "name": "stderr",
     "output_type": "stream",
     "text": [
      "WARNING: QCoreApplication::exec: The event loop is already running\n"
     ]
    }
   ],
   "source": [
    "# G = nx.karate_club_graph()\n",
    "# res = [0,1,2,3,4,5, 'parrot'] #I've added 'parrot', a node that's not in G\n",
    "                              #just to demonstrate that G.subgraph is okay\n",
    "                              #with nodes not in G.    \n",
    "pos = nx.spring_layout(obG)  #setting the positions with respect to G, not k.\n",
    "subOB = obG.subgraph(blue_ob)  \n",
    "\n",
    "plt.figure()\n",
    "nx.draw_networkx(subOB, pos=pos, node_color='b')\n",
    "\n",
    "# othersubgraph = noG.subgraph(range(50,noG.order()))\n",
    "# nx.draw_networkx(othersubgraph, pos=pos, node_color = 'g')\n",
    "plt.show()"
   ]
  },
  {
   "cell_type": "code",
   "execution_count": 76,
   "metadata": {},
   "outputs": [
    {
     "data": {
      "text/plain": [
       "34980"
      ]
     },
     "execution_count": 76,
     "metadata": {},
     "output_type": "execute_result"
    }
   ],
   "source": [
    "len(list(noG.edges(data=True)))"
   ]
  },
  {
   "cell_type": "code",
   "execution_count": 84,
   "metadata": {
    "scrolled": true
   },
   "outputs": [],
   "source": [
    "NOmat=nx.to_numpy_array(G=noG)"
   ]
  },
  {
   "cell_type": "code",
   "execution_count": 102,
   "metadata": {
    "scrolled": true
   },
   "outputs": [],
   "source": [
    "OBmat=nx.to_numpy_array(G=obG)"
   ]
  },
  {
   "cell_type": "code",
   "execution_count": 118,
   "metadata": {},
   "outputs": [],
   "source": [
    "OVmat=nx.to_numpy_array(G=ovG)"
   ]
  },
  {
   "cell_type": "code",
   "execution_count": 103,
   "metadata": {},
   "outputs": [],
   "source": [
    "EARLYmat=nx.to_numpy_array(G=earlyG)"
   ]
  },
  {
   "cell_type": "code",
   "execution_count": 119,
   "metadata": {},
   "outputs": [],
   "source": [
    "MIDmat=nx.to_numpy_array(G=midG)"
   ]
  },
  {
   "cell_type": "code",
   "execution_count": 104,
   "metadata": {},
   "outputs": [],
   "source": [
    "LATEmat=nx.to_numpy_array(G=lateG)"
   ]
  },
  {
   "cell_type": "code",
   "execution_count": null,
   "metadata": {},
   "outputs": [],
   "source": [
    "# !pip install bctpy --user"
   ]
  },
  {
   "cell_type": "code",
   "execution_count": 80,
   "metadata": {},
   "outputs": [],
   "source": [
    "import os.path as op\n",
    "import seaborn as sns\n",
    "import bct"
   ]
  },
  {
   "cell_type": "markdown",
   "metadata": {},
   "source": [
    "## Participation Coefficient\n",
    "Partition networks into the modules, calculate the PC per node within each group. Higher PC indicates more distributed between network connectivity, while a PC of 0 signifies a node’s links are completely within its home network (within network)."
   ]
  },
  {
   "cell_type": "code",
   "execution_count": 97,
   "metadata": {
    "scrolled": true
   },
   "outputs": [],
   "source": [
    "PCno = bct.participation_coef(W=NOmat, ci= noPARTvalues)"
   ]
  },
  {
   "cell_type": "code",
   "execution_count": 105,
   "metadata": {},
   "outputs": [],
   "source": [
    "PCob = bct.participation_coef(W=OBmat, ci= obPARTvalues)"
   ]
  },
  {
   "cell_type": "code",
   "execution_count": 122,
   "metadata": {},
   "outputs": [],
   "source": [
    "PCov = bct.participation_coef(W=OVmat, ci= ovPARTvalues)"
   ]
  },
  {
   "cell_type": "code",
   "execution_count": 106,
   "metadata": {},
   "outputs": [],
   "source": [
    "PCearly = bct.participation_coef(W=EARLYmat, ci= earlyPARTvalues)"
   ]
  },
  {
   "cell_type": "code",
   "execution_count": 123,
   "metadata": {},
   "outputs": [],
   "source": [
    "PCmid = bct.participation_coef(W=MIDmat, ci= midPARTvalues)"
   ]
  },
  {
   "cell_type": "code",
   "execution_count": 107,
   "metadata": {},
   "outputs": [],
   "source": [
    "PClate = bct.participation_coef(W=LATEmat, ci= latePARTvalues)"
   ]
  },
  {
   "cell_type": "code",
   "execution_count": 127,
   "metadata": {},
   "outputs": [
    {
     "data": {
      "text/plain": [
       "(6, 264)"
      ]
     },
     "execution_count": 127,
     "metadata": {},
     "output_type": "execute_result"
    }
   ],
   "source": [
    "alls = np.vstack([PCno, PCov, PCob, PCearly, PCmid, PClate])\n",
    "alls.shape"
   ]
  },
  {
   "cell_type": "code",
   "execution_count": 116,
   "metadata": {
    "scrolled": true
   },
   "outputs": [
    {
     "data": {
      "text/plain": [
       "array([0.76270429, 0.76737731, 0.76723542, 0.76524188, 0.76196659,\n",
       "       0.76314555, 0.7621215 , 0.76851828, 0.76375518, 0.76231515,\n",
       "       0.76332254, 0.76525021, 0.76644386, 0.76874294, 0.76241413,\n",
       "       0.76511135, 0.76374383, 0.76432397, 0.76054857, 0.76381392,\n",
       "       0.76723839, 0.76423998, 0.76162449, 0.7667454 , 0.7641471 ,\n",
       "       0.76335211, 0.764657  , 0.76457985, 0.76822066, 0.76744892,\n",
       "       0.7725968 , 0.77246912, 0.77357729, 0.77196186, 0.77656864,\n",
       "       0.76215504, 0.7771982 , 0.76066264, 0.76198374, 0.76425846,\n",
       "       0.7579467 , 0.76015057, 0.76038975, 0.7590807 , 0.75555895,\n",
       "       0.75472024, 0.75813043, 0.75366274, 0.75512221, 0.77590299,\n",
       "       0.77827314, 0.7781857 , 0.77259093, 0.77431408, 0.77343065,\n",
       "       0.77779697, 0.77356028, 0.77438786, 0.77190714, 0.77444656,\n",
       "       0.77743308, 0.77210076, 0.75644431, 0.74552899, 0.74269198,\n",
       "       0.76221907, 0.74500291, 0.7624262 , 0.75744456, 0.75747251,\n",
       "       0.75605494, 0.76891988, 0.76167424, 0.75971282, 0.76273233,\n",
       "       0.76244959, 0.75556588, 0.76236135, 0.76487104, 0.75808725,\n",
       "       0.76879001, 0.75797879, 0.76152401, 0.74996564, 0.74765316,\n",
       "       0.75049273, 0.75480641, 0.74334552, 0.7427122 , 0.74268229,\n",
       "       0.74404309, 0.73860014, 0.74550317, 0.74008212, 0.73846063,\n",
       "       0.74325227, 0.74125859, 0.73728553, 0.74436909, 0.74247586,\n",
       "       0.74580367, 0.73819957, 0.76843345, 0.7676408 , 0.77258381,\n",
       "       0.77214272, 0.77062861, 0.75196423, 0.74296702, 0.76144416,\n",
       "       0.76217949, 0.76239034, 0.76181104, 0.75140966, 0.76690188,\n",
       "       0.75962865, 0.76671985, 0.77074533, 0.74872191, 0.7504495 ,\n",
       "       0.77508703, 0.75632125, 0.75965334, 0.76640017, 0.77439853,\n",
       "       0.75846153, 0.75819588, 0.75060812, 0.74605979, 0.75260978,\n",
       "       0.75007258, 0.74708713, 0.74994403, 0.74806049, 0.74865485,\n",
       "       0.75151104, 0.75370934, 0.7490616 , 0.75305626, 0.75181307,\n",
       "       0.74899202, 0.75288345, 0.75550399, 0.75419597, 0.747709  ,\n",
       "       0.75239714, 0.75335326, 0.7478468 , 0.75323197, 0.7510332 ,\n",
       "       0.74941032, 0.7484959 , 0.74931885, 0.75030866, 0.74670325,\n",
       "       0.74880009, 0.76386802, 0.75409983, 0.75692418, 0.77115595,\n",
       "       0.75909217, 0.76524503, 0.74071566, 0.7461247 , 0.76189232,\n",
       "       0.75838206, 0.74628827, 0.74457919, 0.76851894, 0.76335956,\n",
       "       0.76656822, 0.76065099, 0.75972082, 0.76726514, 0.75591318,\n",
       "       0.74708546, 0.74573841, 0.76607344, 0.74451021, 0.74914481,\n",
       "       0.74608277, 0.76782603, 0.77578825, 0.76378792, 0.74488547,\n",
       "       0.75235751, 0.74696101, 0.74879556, 0.74334682, 0.74807473,\n",
       "       0.74617354, 0.75311442, 0.73922282, 0.746699  , 0.74729962,\n",
       "       0.74779129, 0.74220781, 0.74051559, 0.74699124, 0.77029815,\n",
       "       0.7674078 , 0.76969725, 0.77055397, 0.7690627 , 0.7511371 ,\n",
       "       0.75508068, 0.77207413, 0.7512894 , 0.75839579, 0.7616617 ,\n",
       "       0.7549363 , 0.76007808, 0.75890678, 0.77695399, 0.77008871,\n",
       "       0.77310419, 0.7782734 , 0.77576907, 0.77605919, 0.75024214,\n",
       "       0.74982557, 0.76014463, 0.76235897, 0.75793967, 0.76338174,\n",
       "       0.76292065, 0.76614742, 0.75602781, 0.76247858, 0.75726808,\n",
       "       0.76206163, 0.76295852, 0.75223268, 0.75556927, 0.7536601 ,\n",
       "       0.75834611, 0.75002441, 0.75005254, 0.74585005, 0.7685777 ,\n",
       "       0.7452137 , 0.76736252, 0.7631219 , 0.7682579 , 0.7689384 ,\n",
       "       0.76778682, 0.77068841, 0.74135131, 0.76935531, 0.75044427,\n",
       "       0.74626882, 0.74905989, 0.74953357, 0.75185242, 0.74518181,\n",
       "       0.74938058, 0.75072305, 0.75387986, 0.76728909, 0.76613893,\n",
       "       0.76730102, 0.7663627 , 0.7608739 , 0.76205578])"
      ]
     },
     "execution_count": 116,
     "metadata": {},
     "output_type": "execute_result"
    }
   ],
   "source": [
    "PCearly"
   ]
  },
  {
   "cell_type": "code",
   "execution_count": 117,
   "metadata": {
    "scrolled": true
   },
   "outputs": [
    {
     "data": {
      "text/plain": [
       "array([0.77341753, 0.766566  , 0.76668862, 0.76348636, 0.76116683,\n",
       "       0.765666  , 0.76500203, 0.7686324 , 0.75937693, 0.76726171,\n",
       "       0.76373252, 0.76502419, 0.76944165, 0.7674425 , 0.76472894,\n",
       "       0.7652829 , 0.7630182 , 0.77054398, 0.7603025 , 0.76588445,\n",
       "       0.7689418 , 0.76392757, 0.76029715, 0.76419017, 0.76181023,\n",
       "       0.76923782, 0.76578978, 0.76360845, 0.76729394, 0.76601196,\n",
       "       0.7681182 , 0.76052118, 0.76503145, 0.77594217, 0.77238819,\n",
       "       0.76137095, 0.76977545, 0.75990731, 0.75867244, 0.76173399,\n",
       "       0.75156126, 0.75919222, 0.75812947, 0.75546615, 0.75168074,\n",
       "       0.74891093, 0.75039294, 0.75061769, 0.746664  , 0.77596407,\n",
       "       0.78009544, 0.77432626, 0.7831506 , 0.78160802, 0.77782606,\n",
       "       0.77473749, 0.78245423, 0.77937996, 0.7717853 , 0.77069029,\n",
       "       0.76897163, 0.78005565, 0.78128724, 0.74355901, 0.7338254 ,\n",
       "       0.77095238, 0.73819543, 0.78117707, 0.78143215, 0.75015743,\n",
       "       0.74710237, 0.77746137, 0.78276658, 0.77894254, 0.7829217 ,\n",
       "       0.78258967, 0.78231285, 0.77886524, 0.7824947 , 0.78510712,\n",
       "       0.77324034, 0.78190206, 0.781185  , 0.74770345, 0.74150671,\n",
       "       0.7450331 , 0.7528932 , 0.74212276, 0.74432677, 0.74700798,\n",
       "       0.741744  , 0.73152517, 0.74362936, 0.73182739, 0.73031432,\n",
       "       0.73441999, 0.73130657, 0.73081992, 0.73838175, 0.73513948,\n",
       "       0.74637514, 0.73113673, 0.75696693, 0.75703104, 0.76942629,\n",
       "       0.77839758, 0.77174629, 0.74572168, 0.73305443, 0.75453783,\n",
       "       0.7683328 , 0.76779134, 0.76507251, 0.76219344, 0.74792213,\n",
       "       0.75128414, 0.78018422, 0.77010608, 0.74362429, 0.74528271,\n",
       "       0.77696254, 0.7832611 , 0.78294712, 0.77643277, 0.77498168,\n",
       "       0.76945549, 0.77629308, 0.77524044, 0.771824  , 0.77576247,\n",
       "       0.77279611, 0.77031475, 0.77075701, 0.76677315, 0.77245188,\n",
       "       0.76711423, 0.76578109, 0.77160958, 0.77282504, 0.78205832,\n",
       "       0.76833967, 0.78368094, 0.77087131, 0.76927339, 0.77263723,\n",
       "       0.78378503, 0.77082552, 0.76481956, 0.78412889, 0.77794915,\n",
       "       0.76433163, 0.77007402, 0.77218341, 0.76707313, 0.76455871,\n",
       "       0.76785088, 0.76151295, 0.74902335, 0.75181197, 0.7777819 ,\n",
       "       0.75702379, 0.77078026, 0.73513417, 0.73862896, 0.75719568,\n",
       "       0.75584962, 0.7430805 , 0.73797879, 0.76978   , 0.78160923,\n",
       "       0.77521122, 0.75867925, 0.78142488, 0.77999816, 0.75005708,\n",
       "       0.74151619, 0.7424394 , 0.77691424, 0.74069329, 0.74629865,\n",
       "       0.74154732, 0.77210163, 0.77433319, 0.76115106, 0.74157304,\n",
       "       0.74669826, 0.74109438, 0.74157317, 0.73624732, 0.74282345,\n",
       "       0.73826942, 0.75388013, 0.7407016 , 0.73790398, 0.74437736,\n",
       "       0.74343289, 0.7418424 , 0.74008558, 0.74563971, 0.76756649,\n",
       "       0.76400382, 0.77464459, 0.77379063, 0.76721492, 0.74452627,\n",
       "       0.75221859, 0.76007005, 0.74180593, 0.75074877, 0.75970713,\n",
       "       0.74979566, 0.75512058, 0.75737788, 0.78097625, 0.77613905,\n",
       "       0.78303184, 0.77730889, 0.77332463, 0.77964017, 0.74274303,\n",
       "       0.74360969, 0.77376493, 0.77363415, 0.78145184, 0.77391528,\n",
       "       0.77348314, 0.77654616, 0.78343026, 0.7612542 , 0.76880637,\n",
       "       0.77430564, 0.76148191, 0.76620563, 0.76516991, 0.76616376,\n",
       "       0.76404343, 0.76425295, 0.76586179, 0.73647377, 0.76644938,\n",
       "       0.74050777, 0.76021001, 0.76519591, 0.76542764, 0.77201883,\n",
       "       0.77217494, 0.77437498, 0.73487582, 0.76664023, 0.7397986 ,\n",
       "       0.73900014, 0.76897445, 0.76680242, 0.76599663, 0.73990318,\n",
       "       0.7629355 , 0.76165755, 0.76387755, 0.75323899, 0.75205849,\n",
       "       0.74952879, 0.75526974, 0.76687919, 0.76859022])"
      ]
     },
     "execution_count": 117,
     "metadata": {},
     "output_type": "execute_result"
    }
   ],
   "source": [
    "PClate"
   ]
  },
  {
   "cell_type": "code",
   "execution_count": 132,
   "metadata": {
    "scrolled": true
   },
   "outputs": [
    {
     "data": {
      "text/html": [
       "<div>\n",
       "<style scoped>\n",
       "    .dataframe tbody tr th:only-of-type {\n",
       "        vertical-align: middle;\n",
       "    }\n",
       "\n",
       "    .dataframe tbody tr th {\n",
       "        vertical-align: top;\n",
       "    }\n",
       "\n",
       "    .dataframe thead th {\n",
       "        text-align: right;\n",
       "    }\n",
       "</style>\n",
       "<table border=\"1\" class=\"dataframe\">\n",
       "  <thead>\n",
       "    <tr style=\"text-align: right;\">\n",
       "      <th></th>\n",
       "      <th>0</th>\n",
       "      <th>1</th>\n",
       "      <th>2</th>\n",
       "      <th>3</th>\n",
       "      <th>4</th>\n",
       "      <th>5</th>\n",
       "      <th>6</th>\n",
       "      <th>7</th>\n",
       "      <th>8</th>\n",
       "      <th>9</th>\n",
       "      <th>...</th>\n",
       "      <th>254</th>\n",
       "      <th>255</th>\n",
       "      <th>256</th>\n",
       "      <th>257</th>\n",
       "      <th>258</th>\n",
       "      <th>259</th>\n",
       "      <th>260</th>\n",
       "      <th>261</th>\n",
       "      <th>262</th>\n",
       "      <th>263</th>\n",
       "    </tr>\n",
       "  </thead>\n",
       "  <tbody>\n",
       "    <tr>\n",
       "      <th>0</th>\n",
       "      <td>0.793451</td>\n",
       "      <td>0.789641</td>\n",
       "      <td>0.789688</td>\n",
       "      <td>0.787512</td>\n",
       "      <td>0.784590</td>\n",
       "      <td>0.788517</td>\n",
       "      <td>0.787385</td>\n",
       "      <td>0.794856</td>\n",
       "      <td>0.786566</td>\n",
       "      <td>0.788587</td>\n",
       "      <td>...</td>\n",
       "      <td>0.774287</td>\n",
       "      <td>0.782966</td>\n",
       "      <td>0.784498</td>\n",
       "      <td>0.786193</td>\n",
       "      <td>0.796698</td>\n",
       "      <td>0.795246</td>\n",
       "      <td>0.798849</td>\n",
       "      <td>0.798364</td>\n",
       "      <td>0.791596</td>\n",
       "      <td>0.792101</td>\n",
       "    </tr>\n",
       "    <tr>\n",
       "      <th>1</th>\n",
       "      <td>0.738108</td>\n",
       "      <td>0.738126</td>\n",
       "      <td>0.737173</td>\n",
       "      <td>0.733827</td>\n",
       "      <td>0.732678</td>\n",
       "      <td>0.735483</td>\n",
       "      <td>0.734223</td>\n",
       "      <td>0.740619</td>\n",
       "      <td>0.733345</td>\n",
       "      <td>0.736016</td>\n",
       "      <td>...</td>\n",
       "      <td>0.712491</td>\n",
       "      <td>0.728448</td>\n",
       "      <td>0.726784</td>\n",
       "      <td>0.728059</td>\n",
       "      <td>0.724762</td>\n",
       "      <td>0.725015</td>\n",
       "      <td>0.721231</td>\n",
       "      <td>0.726549</td>\n",
       "      <td>0.735714</td>\n",
       "      <td>0.733143</td>\n",
       "    </tr>\n",
       "    <tr>\n",
       "      <th>2</th>\n",
       "      <td>0.745952</td>\n",
       "      <td>0.745830</td>\n",
       "      <td>0.744383</td>\n",
       "      <td>0.742126</td>\n",
       "      <td>0.741389</td>\n",
       "      <td>0.742609</td>\n",
       "      <td>0.741479</td>\n",
       "      <td>0.748687</td>\n",
       "      <td>0.740112</td>\n",
       "      <td>0.742648</td>\n",
       "      <td>...</td>\n",
       "      <td>0.716834</td>\n",
       "      <td>0.739876</td>\n",
       "      <td>0.738750</td>\n",
       "      <td>0.741286</td>\n",
       "      <td>0.732191</td>\n",
       "      <td>0.732095</td>\n",
       "      <td>0.730920</td>\n",
       "      <td>0.733884</td>\n",
       "      <td>0.748014</td>\n",
       "      <td>0.747030</td>\n",
       "    </tr>\n",
       "    <tr>\n",
       "      <th>3</th>\n",
       "      <td>0.762704</td>\n",
       "      <td>0.767377</td>\n",
       "      <td>0.767235</td>\n",
       "      <td>0.765242</td>\n",
       "      <td>0.761967</td>\n",
       "      <td>0.763146</td>\n",
       "      <td>0.762121</td>\n",
       "      <td>0.768518</td>\n",
       "      <td>0.763755</td>\n",
       "      <td>0.762315</td>\n",
       "      <td>...</td>\n",
       "      <td>0.745182</td>\n",
       "      <td>0.749381</td>\n",
       "      <td>0.750723</td>\n",
       "      <td>0.753880</td>\n",
       "      <td>0.767289</td>\n",
       "      <td>0.766139</td>\n",
       "      <td>0.767301</td>\n",
       "      <td>0.766363</td>\n",
       "      <td>0.760874</td>\n",
       "      <td>0.762056</td>\n",
       "    </tr>\n",
       "    <tr>\n",
       "      <th>4</th>\n",
       "      <td>0.802934</td>\n",
       "      <td>0.810630</td>\n",
       "      <td>0.808457</td>\n",
       "      <td>0.806950</td>\n",
       "      <td>0.802036</td>\n",
       "      <td>0.799193</td>\n",
       "      <td>0.797866</td>\n",
       "      <td>0.810891</td>\n",
       "      <td>0.801408</td>\n",
       "      <td>0.799559</td>\n",
       "      <td>...</td>\n",
       "      <td>0.814540</td>\n",
       "      <td>0.801694</td>\n",
       "      <td>0.807087</td>\n",
       "      <td>0.805591</td>\n",
       "      <td>0.821353</td>\n",
       "      <td>0.825038</td>\n",
       "      <td>0.825347</td>\n",
       "      <td>0.825679</td>\n",
       "      <td>0.812349</td>\n",
       "      <td>0.809710</td>\n",
       "    </tr>\n",
       "    <tr>\n",
       "      <th>5</th>\n",
       "      <td>0.773418</td>\n",
       "      <td>0.766566</td>\n",
       "      <td>0.766689</td>\n",
       "      <td>0.763486</td>\n",
       "      <td>0.761167</td>\n",
       "      <td>0.765666</td>\n",
       "      <td>0.765002</td>\n",
       "      <td>0.768632</td>\n",
       "      <td>0.759377</td>\n",
       "      <td>0.767262</td>\n",
       "      <td>...</td>\n",
       "      <td>0.739903</td>\n",
       "      <td>0.762935</td>\n",
       "      <td>0.761658</td>\n",
       "      <td>0.763878</td>\n",
       "      <td>0.753239</td>\n",
       "      <td>0.752058</td>\n",
       "      <td>0.749529</td>\n",
       "      <td>0.755270</td>\n",
       "      <td>0.766879</td>\n",
       "      <td>0.768590</td>\n",
       "    </tr>\n",
       "  </tbody>\n",
       "</table>\n",
       "<p>6 rows × 264 columns</p>\n",
       "</div>"
      ],
      "text/plain": [
       "        0         1         2         3         4         5         6    \\\n",
       "0  0.793451  0.789641  0.789688  0.787512  0.784590  0.788517  0.787385   \n",
       "1  0.738108  0.738126  0.737173  0.733827  0.732678  0.735483  0.734223   \n",
       "2  0.745952  0.745830  0.744383  0.742126  0.741389  0.742609  0.741479   \n",
       "3  0.762704  0.767377  0.767235  0.765242  0.761967  0.763146  0.762121   \n",
       "4  0.802934  0.810630  0.808457  0.806950  0.802036  0.799193  0.797866   \n",
       "5  0.773418  0.766566  0.766689  0.763486  0.761167  0.765666  0.765002   \n",
       "\n",
       "        7         8         9      ...          254       255       256  \\\n",
       "0  0.794856  0.786566  0.788587    ...     0.774287  0.782966  0.784498   \n",
       "1  0.740619  0.733345  0.736016    ...     0.712491  0.728448  0.726784   \n",
       "2  0.748687  0.740112  0.742648    ...     0.716834  0.739876  0.738750   \n",
       "3  0.768518  0.763755  0.762315    ...     0.745182  0.749381  0.750723   \n",
       "4  0.810891  0.801408  0.799559    ...     0.814540  0.801694  0.807087   \n",
       "5  0.768632  0.759377  0.767262    ...     0.739903  0.762935  0.761658   \n",
       "\n",
       "        257       258       259       260       261       262       263  \n",
       "0  0.786193  0.796698  0.795246  0.798849  0.798364  0.791596  0.792101  \n",
       "1  0.728059  0.724762  0.725015  0.721231  0.726549  0.735714  0.733143  \n",
       "2  0.741286  0.732191  0.732095  0.730920  0.733884  0.748014  0.747030  \n",
       "3  0.753880  0.767289  0.766139  0.767301  0.766363  0.760874  0.762056  \n",
       "4  0.805591  0.821353  0.825038  0.825347  0.825679  0.812349  0.809710  \n",
       "5  0.763878  0.753239  0.752058  0.749529  0.755270  0.766879  0.768590  \n",
       "\n",
       "[6 rows x 264 columns]"
      ]
     },
     "execution_count": 132,
     "metadata": {},
     "output_type": "execute_result"
    }
   ],
   "source": [
    "Alls = pd.DataFrame(alls)\n",
    "Alls"
   ]
  },
  {
   "cell_type": "code",
   "execution_count": 131,
   "metadata": {},
   "outputs": [],
   "source": [
    "Alls.to_csv(\"/Users/gracer/Google Drive/ABCD/tmp/PC.csv\", sep=',', index=False)"
   ]
  },
  {
   "cell_type": "code",
   "execution_count": null,
   "metadata": {},
   "outputs": [],
   "source": [
    "# list(H.edges(data=True))[0]\n",
    "# H.edges(data=True)\n",
    "early_edge_weights = [e[2]['weight'] for e in earlyH.edges(data=True)]\n",
    "mid_edge_weights = [e[2]['weight'] for e in midH.edges(data=True)]\n",
    "late_edge_weights = [e[2]['weight'] for e in lateH.edges(data=True)]\n"
   ]
  },
  {
   "cell_type": "code",
   "execution_count": null,
   "metadata": {},
   "outputs": [],
   "source": [
    "early_edge_keep = []\n",
    "for e in earlyH.edges(data=True):\n",
    "    if e[2]['weight']>=1:\n",
    "        early_edge_keep.append(e)"
   ]
  },
  {
   "cell_type": "code",
   "execution_count": null,
   "metadata": {},
   "outputs": [],
   "source": [
    "early_edge_keep"
   ]
  },
  {
   "cell_type": "code",
   "execution_count": null,
   "metadata": {},
   "outputs": [],
   "source": [
    "#drawing\n",
    "size = float(len(set(earlyPART.values())))\n",
    "print(size)\n",
    "pos = nx.spring_layout(earlyH)\n",
    "count = 0.\n",
    "for com in set(earlyPART.values()) :\n",
    "    print(com)\n",
    "    count = count + 1.\n",
    "    list_nodes = [nodes for nodes in earlyPART.keys()\n",
    "                                if earlyPART[nodes] == com]\n",
    "    nx.draw_networkx_nodes(earlyH, pos, list_nodes, node_size = 20,edge_vmin = 0.5, \n",
    "                                node_color = no_list_colors)\n",
    "\n",
    "\n",
    "nx.draw_networkx_edges(earlyH, pos, alpha=0.5, edgelist=early_edge_keep)\n",
    "plt.show()"
   ]
  },
  {
   "cell_type": "code",
   "execution_count": null,
   "metadata": {},
   "outputs": [],
   "source": [
    "for key, value in midPART.items():\n",
    "    midH.node(data=True)[key].update({'color':value})"
   ]
  },
  {
   "cell_type": "code",
   "execution_count": null,
   "metadata": {},
   "outputs": [],
   "source": [
    "midH.nodes(data=True)"
   ]
  },
  {
   "cell_type": "code",
   "execution_count": null,
   "metadata": {},
   "outputs": [],
   "source": [
    "for key, value in latePART.items():\n",
    "    lateH.node(data=True)[key].update({'color':value})"
   ]
  },
  {
   "cell_type": "code",
   "execution_count": null,
   "metadata": {},
   "outputs": [],
   "source": [
    "# Define node positions data structure (dict) for plotting\n",
    "early_node_colors = {node[0]: (node[1]['color']) for node in earlyH.nodes(data=True)}\n",
    "mid_node_colors = {node[0]: (node[1]['color']) for node in midH.nodes(data=True)}\n",
    "late_node_colors = {node[0]: (node[1]['color']) for node in lateH.nodes(data=True)}\n",
    "\n",
    "# Preview of node_positions with a bit of hack (there is no head/slice method for dictionaries).\n",
    "#dict(list(node_colors.items())[0:5])\n",
    "#print(G.node(data=True))\n",
    "early_list_colors=list(early_node_colors.values())\n",
    "mid_list_colors=list(mid_node_colors.values())\n",
    "late_list_colors=list(late_node_colors.values())"
   ]
  },
  {
   "cell_type": "code",
   "execution_count": null,
   "metadata": {},
   "outputs": [],
   "source": [
    "early_node_positions = {node[0]: (node[1]['X'], -node[1]['Y']) for node in earlyH.nodes(data=True)}\n",
    "mid_node_positions = {node[0]: (node[1]['X'], -node[1]['Y']) for node in midH.nodes(data=True)}\n",
    "late_node_positions = {node[0]: (node[1]['X'], -node[1]['Y']) for node in lateH.nodes(data=True)}"
   ]
  },
  {
   "cell_type": "code",
   "execution_count": null,
   "metadata": {},
   "outputs": [],
   "source": [
    "# # Define node positions data structure (dict) for plotting\n",
    "# node_positions = {node[0]: (node[1]['X'], -node[1]['Y']) for node in H.nodes(data=True)}\n",
    "# node_colors = {node[0]: (node[1]['color']) for node in H.nodes(data=True)}\n",
    "\n",
    "# # Preview of node_positions with a bit of hack (there is no head/slice method for dictionaries).\n",
    "# #dict(list(node_colors.items())[0:5])\n",
    "# #print(G.node(data=True))\n",
    "# list_colors=list(node_colors.values())"
   ]
  },
  {
   "cell_type": "code",
   "execution_count": null,
   "metadata": {
    "scrolled": false
   },
   "outputs": [],
   "source": [
    "plt.figure(figsize=(8, 6))\n",
    "nx.draw(noH, pos=no_node_positions,  node_size=20,  edge_color = \"lightgrey\", node_color = no_list_colors)\n",
    "plt.title('normal', size=15)\n",
    "plt.show()"
   ]
  },
  {
   "cell_type": "code",
   "execution_count": null,
   "metadata": {
    "scrolled": false
   },
   "outputs": [],
   "source": [
    "plt.figure(figsize=(8, 6))\n",
    "nx.draw(earlyH, pos=early_node_positions,  node_size=20,  edge_color = \"lightgrey\", node_color = early_list_colors)\n",
    "plt.title('early', size=15)\n",
    "plt.show()"
   ]
  },
  {
   "cell_type": "code",
   "execution_count": null,
   "metadata": {
    "scrolled": false
   },
   "outputs": [],
   "source": [
    "plt.figure(figsize=(8, 6))\n",
    "nx.draw(obH, pos=ob_node_positions,  node_size=20,  edge_color = \"lightgrey\", node_color = ob_list_colors)\n",
    "plt.title('obese', size=15)\n",
    "plt.show()"
   ]
  },
  {
   "cell_type": "code",
   "execution_count": null,
   "metadata": {
    "scrolled": false
   },
   "outputs": [],
   "source": [
    "plt.figure(figsize=(8, 6))\n",
    "nx.draw(midH, pos=mid_node_positions,  node_size=20,  edge_color = \"lightgrey\", node_color = mid_list_colors)\n",
    "plt.title('Mid', size=15)\n",
    "plt.show()"
   ]
  },
  {
   "cell_type": "code",
   "execution_count": null,
   "metadata": {
    "scrolled": false
   },
   "outputs": [],
   "source": [
    "plt.figure(figsize=(8, 6))\n",
    "nx.draw(lateH, pos=late_node_positions,  node_size=20,  edge_color = \"lightgrey\", node_color = late_list_colors)\n",
    "plt.title('Late', size=15)\n",
    "plt.show()"
   ]
  },
  {
   "cell_type": "code",
   "execution_count": null,
   "metadata": {},
   "outputs": [],
   "source": [
    "nog=community.induced_graph(noPART,noH)\n",
    "create_corr_network_1(G=nog)"
   ]
  },
  {
   "cell_type": "code",
   "execution_count": null,
   "metadata": {},
   "outputs": [],
   "source": [
    "ovg=community.induced_graph(ovPART,ovH)\n",
    "create_corr_network_1(G=ovg)"
   ]
  },
  {
   "cell_type": "code",
   "execution_count": null,
   "metadata": {},
   "outputs": [],
   "source": [
    "obg=community.induced_graph(obPART,obH)\n",
    "create_corr_network_1(G=obg)"
   ]
  },
  {
   "cell_type": "code",
   "execution_count": null,
   "metadata": {},
   "outputs": [],
   "source": [
    "earlyg=community.induced_graph(earlyPART,earlyH)\n",
    "create_corr_network_1(G=earlyg)"
   ]
  },
  {
   "cell_type": "code",
   "execution_count": null,
   "metadata": {},
   "outputs": [],
   "source": [
    "midg=community.induced_graph(midPART,midH)\n",
    "create_corr_network_1(G=midg)"
   ]
  },
  {
   "cell_type": "code",
   "execution_count": null,
   "metadata": {},
   "outputs": [],
   "source": [
    "lateg=community.induced_graph(latePART,lateH)\n",
    "create_corr_network_1(G=lateg)"
   ]
  },
  {
   "cell_type": "markdown",
   "metadata": {},
   "source": [
    "### Summmary of results so far... \n",
    "Looks like the obese have one less module compared to the overweight and the normal weight \n",
    "Need to assess what each node is comprised of  \n"
   ]
  },
  {
   "cell_type": "markdown",
   "metadata": {},
   "source": [
    "# Visualizations"
   ]
  },
  {
   "cell_type": "code",
   "execution_count": null,
   "metadata": {},
   "outputs": [],
   "source": [
    "# Define node positions data structure (dict) for plotting\n",
    "no_node_positions = {node[0]: (node[1]['X'], -node[1]['Y'], node[1]['Z']) for node in noH.nodes(data=True)}\n",
    "no_node_colors = {node[0]: (node[1]['color']) for node in noH.nodes(data=True)}\n",
    "\n",
    "# Preview of node_positions with a bit of hack (there is no head/slice method for dictionaries).\n",
    "#dict(list(node_colors.items())[0:5])\n",
    "#print(G.node(data=True))\n",
    "list_colors=list(node_colors.values())"
   ]
  },
  {
   "cell_type": "code",
   "execution_count": null,
   "metadata": {
    "scrolled": true
   },
   "outputs": [],
   "source": [
    "# Download data\n",
    "# arch = np.load(download_file('phase_sync_delta.npz', astype='example_data'))\n",
    "nodes, edges = arch['nodes'], arch['edges']\n",
    "# Create the scene with a black background\n",
    "sc = SceneObj(size=(1500, 600))"
   ]
  },
  {
   "cell_type": "code",
   "execution_count": null,
   "metadata": {
    "scrolled": true
   },
   "outputs": [],
   "source": [
    "print(arch['nodes'].shape)\n",
    "print(arch['edges'].shape)"
   ]
  },
  {
   "cell_type": "code",
   "execution_count": null,
   "metadata": {},
   "outputs": [],
   "source": [
    "# Download data\n",
    "# arch = np.load(download_file('phase_sync_delta.npz', astype='example_data'))\n",
    "nodes, edges = np.asarray(list(no_node_positions.values())), mean_no\n",
    "# Create the scene with a black background\n",
    "sc = SceneObj(size=(1500, 600))"
   ]
  },
  {
   "cell_type": "code",
   "execution_count": null,
   "metadata": {},
   "outputs": [],
   "source": [
    "# Coloring method\n",
    "color_by = 'strength'\n",
    "# Because we don't want to plot every connections, we only keep connections\n",
    "# above .7\n",
    "select = edges > .5\n",
    "# Define the connectivity object\n",
    "c_default = ConnectObj('default', nodes, edges, select=select, line_width=2.,\n",
    "                       cmap='Spectral_r', color_by=color_by)\n",
    "# Then, we define the sources\n",
    "s_obj = SourceObj('sources', nodes, color='#ab4642', radius_min=15.)\n",
    "sc.add_to_subplot(c_default, title='Color by connectivity strength')\n",
    "# And add connect, source and brain objects to the scene\n",
    "sc.add_to_subplot(s_obj)\n",
    "sc.add_to_subplot(BrainObj('B3'), use_this_cam=True)"
   ]
  },
  {
   "cell_type": "code",
   "execution_count": null,
   "metadata": {},
   "outputs": [],
   "source": [
    "# Coloring method\n",
    "color_by = 'count'\n",
    "# Weak connections -> alpha = .1 // strong connections -> alpha = 1.\n",
    "dynamic = (.1, 1.)\n",
    "# Define the connectivity and source object\n",
    "c_count = ConnectObj('default', nodes, edges, select=select, line_width=4.,\n",
    "                     color_by=color_by, antialias=True, dynamic=dynamic)\n",
    "s_obj_c = SourceObj('sources', nodes, color='olive', radius_min=10.,\n",
    "                    symbol='square')\n",
    "# And add connect, source and brain objects to the scene\n",
    "sc.add_to_subplot(c_count, row=0, col=1,\n",
    "                  title='Color by number of connections per node')\n",
    "sc.add_to_subplot(s_obj_c, use_this_cam=True, row=0, col=1)\n",
    "sc.add_to_subplot(BrainObj('B3'), use_this_cam=True, row=0, col=1)"
   ]
  },
  {
   "cell_type": "code",
   "execution_count": null,
   "metadata": {},
   "outputs": [],
   "source": [
    "# First, we take a copy of the connectivity array\n",
    "edges_copy = edges.copy()\n",
    "# Then, we force edges to take fixed values\n",
    "# ====================   =========  ===========\n",
    "# Condition              New value  Color\n",
    "# ====================   =========  ===========\n",
    "# edges >= 0.8              4.      red\n",
    "# edges in [.78, .8[        3.      orange\n",
    "# edges in [.74, .78[       2.      blue\n",
    "# Others                    -       lightgray\n",
    "# ====================   =========  ===========\n",
    "edges_copy[edges_copy >= .8] = 4.\n",
    "edges_copy[np.logical_and(edges_copy >= .78, edges_copy < .8)] = 3.\n",
    "edges_copy[np.logical_and(edges_copy >= .74, edges_copy < .78)] = 2.\n",
    "# Now we use a dctionary to set one color per value.\n",
    "ccol = {\n",
    "    None: 'lightgray',\n",
    "    2.: 'blue',\n",
    "    3.: 'orange',\n",
    "    4.: 'red'\n",
    "}\n",
    "\n",
    "# Define the connectivity and source objects\n",
    "c_cuscol = ConnectObj('default', nodes, edges_copy, select=edges > .7,\n",
    "                      custom_colors=ccol)\n",
    "s_obj_cu = SourceObj('sources', nodes, color='slategray', radius_min=10.,\n",
    "                     symbol='ring')\n",
    "# Add objects to the scene\n",
    "sc.add_to_subplot(c_cuscol, row=0, col=2, title='Custom colors')\n",
    "sc.add_to_subplot(s_obj_cu, row=0, col=2)\n",
    "sc.add_to_subplot(BrainObj('white'), use_this_cam=True, row=0, col=2)\n",
    "\n",
    "# Finally, display the scene\n",
    "sc.preview()\n",
    "sc.screenshot('/Users/gracer/Google Drive/ABCD/tmp/figlayout.png', dpi=600)"
   ]
  },
  {
   "cell_type": "markdown",
   "metadata": {},
   "source": [
    "## Saving the data"
   ]
  },
  {
   "cell_type": "code",
   "execution_count": null,
   "metadata": {},
   "outputs": [],
   "source": [
    "no_ROIs = list(noPART.keys())\n",
    "no_MODS = list(noPART.values())\n",
    "\n",
    "ov_ROIs = list(ovPART.keys())\n",
    "ov_MODS = list(ovPART.values())\n",
    "\n",
    "ob_ROIs = list(obPART.keys())\n",
    "ob_MODS = list(obPART.values())\n"
   ]
  },
  {
   "cell_type": "code",
   "execution_count": null,
   "metadata": {
    "scrolled": true
   },
   "outputs": [],
   "source": [
    "nodf = pd.DataFrame(no_MODS)\n",
    "nodf['ROI'] = no_ROIs\n",
    "# nodf.to_csv(\"/Users/gracer/Google Drive/ABCD/tmp/normal_Module.csv\", sep=',', index=False)"
   ]
  },
  {
   "cell_type": "code",
   "execution_count": null,
   "metadata": {
    "scrolled": true
   },
   "outputs": [],
   "source": [
    "ovdf = pd.DataFrame(ov_MODS)\n",
    "ovdf['ROI'] = ov_ROIs\n",
    "# ovdf.to_csv(\"/Users/gracer/Google Drive/ABCD/tmp/overweight_Module.csv\", sep=',', index=False)"
   ]
  },
  {
   "cell_type": "code",
   "execution_count": null,
   "metadata": {
    "scrolled": true
   },
   "outputs": [],
   "source": [
    "obdf = pd.DataFrame(ob_MODS)\n",
    "obdf['ROI'] = ob_ROIs\n",
    "# obdf.to_csv(\"/Users/gracer/Google Drive/ABCD/tmp/obese_Module.csv\", sep=',', index=False)"
   ]
  },
  {
   "cell_type": "code",
   "execution_count": null,
   "metadata": {},
   "outputs": [],
   "source": [
    "early_ROIs = list(earlyPART.keys())\n",
    "early_MODS = list(earlyPART.values())\n",
    "\n",
    "mid_ROIs = list(midPART.keys())\n",
    "mid_MODS = list(midPART.values())\n",
    "\n",
    "late_ROIs = list(latePART.keys())\n",
    "late_MODS = list(latePART.values())\n"
   ]
  },
  {
   "cell_type": "code",
   "execution_count": null,
   "metadata": {
    "scrolled": true
   },
   "outputs": [],
   "source": [
    "earlydf = pd.DataFrame(early_MODS)\n",
    "earlydf['ROI'] = early_ROIs\n",
    "earlydf.to_csv(\"/Users/gracer/Google Drive/ABCD/tmp/early_Module.csv\", sep=',', index=False)"
   ]
  },
  {
   "cell_type": "code",
   "execution_count": null,
   "metadata": {
    "scrolled": true
   },
   "outputs": [],
   "source": [
    "middf = pd.DataFrame(mid_MODS)\n",
    "middf['ROI'] = mid_ROIs\n",
    "middf.to_csv(\"/Users/gracer/Google Drive/ABCD/tmp/mid_Module.csv\", sep=',', index=False)"
   ]
  },
  {
   "cell_type": "code",
   "execution_count": null,
   "metadata": {
    "scrolled": true
   },
   "outputs": [],
   "source": [
    "latedf = pd.DataFrame(late_MODS)\n",
    "latedf['ROI'] = late_ROIs\n",
    "latedf.to_csv(\"/Users/gracer/Google Drive/ABCD/tmp/late_Module.csv\", sep=',', index=False)"
   ]
  },
  {
   "cell_type": "markdown",
   "metadata": {},
   "source": [
    "## Parcelation \n",
    "Through BIAC https://wiki.biac.duke.edu/biac:analysis:resting_pipeline"
   ]
  },
  {
   "cell_type": "markdown",
   "metadata": {},
   "source": [
    "## Individual and Group Matrices\n",
    "Network-level analysis will be performed with inividual correltion matrices"
   ]
  },
  {
   "cell_type": "markdown",
   "metadata": {},
   "source": [
    "## Thresholding\n",
    "In accordance with van den Heuvel et al. 2017, we will examine and test statistical differences in functional connectivity (FC) defined as the mean of the correlation matrix. FC will be included in statistical tests between groups."
   ]
  },
  {
   "cell_type": "markdown",
   "metadata": {},
   "source": [
    "## Partitioning\n",
    "Will partition full 264 connectome into modules using louvain algorithm. "
   ]
  },
  {
   "cell_type": "markdown",
   "metadata": {},
   "source": [
    "## Check the partition\n",
    "Will use normalized mutual information to assess similarity between network assignments. NMI measures information shared between two probability distribution functions, specifically measuring how much knowing one distribution leads to certainty ofthe other. Permuted the labels of individual matrices between contrasts 1,000 times to generate a null distribution of NMI values for each contrast. Matrices between groups were randomly shuffled and partitioned into functional networks, and NMI was calculated.   \n",
    "https://scikit-learn.org/stable/modules/generated/sklearn.metrics.normalized_mutual_info_score.html#sklearn.metrics.normalized_mutual_info_score"
   ]
  },
  {
   "cell_type": "markdown",
   "metadata": {},
   "source": [
    "## Connectivity Strength\n",
    "Caluclate Euclidean distance for each ROI-ROI pair. Linear regression with distance as a predictor of connectivity strength between groups.  \n",
    "https://scikit-learn.org/stable/modules/generated/sklearn.metrics.pairwise.euclidean_distances.html"
   ]
  },
  {
   "cell_type": "code",
   "execution_count": null,
   "metadata": {},
   "outputs": [],
   "source": [
    "from sklearn.metrics.pairwise import euclidean_distances\n",
    "X = [[0, 1], [1, 1]]\n",
    "print(X)\n",
    "# distance between rows of X\n",
    "euclidean_distances(X, X)\n",
    "\n",
    "# get distance to origin\n",
    "# euclidean_distances(X, [[0, 0]])\n",
    "\n"
   ]
  },
  {
   "cell_type": "markdown",
   "metadata": {},
   "source": [
    "### Within network changes\n",
    "All within network pairwise relationships were averaged per group. Two-tailed T-test to assess differences. Bonferroni corrections as needed."
   ]
  },
  {
   "cell_type": "markdown",
   "metadata": {},
   "source": [
    "### Between network changes\n",
    "Average connectivity is calculated per network. Compare the between network interactions. "
   ]
  },
  {
   "cell_type": "markdown",
   "metadata": {},
   "source": [
    "## Pickling data to save it"
   ]
  },
  {
   "cell_type": "code",
   "execution_count": null,
   "metadata": {},
   "outputs": [],
   "source": [
    "# sfile = bz2.BZ2File('/Users/gracer/Google Drive/ABCD/tmp/smallerfile', 'w')\n",
    "# pickle.dump(GRAPHS, sfile)\n",
    "GRAPHS['BIGdf'] = BIGdf\n",
    "GRAPHS['maxes'] = maxes\n",
    "pickle.dump(saveme, open('/Users/gracer/Google Drive/ABCD/tmp/just_mean', 'wb'), protocol=4)"
   ]
  }
 ],
 "metadata": {
  "kernelspec": {
   "display_name": "Python 3",
   "language": "python",
   "name": "python3"
  },
  "language_info": {
   "codemirror_mode": {
    "name": "ipython",
    "version": 3
   },
   "file_extension": ".py",
   "mimetype": "text/x-python",
   "name": "python",
   "nbconvert_exporter": "python",
   "pygments_lexer": "ipython3",
   "version": "3.6.5"
  }
 },
 "nbformat": 4,
 "nbformat_minor": 2
}
